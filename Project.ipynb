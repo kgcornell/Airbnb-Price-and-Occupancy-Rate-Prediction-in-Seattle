{
 "cells": [
  {
   "cell_type": "markdown",
   "metadata": {},
   "source": [
    "# Importing Relevant Python Libraries"
   ]
  },
  {
   "cell_type": "code",
   "execution_count": 93,
   "metadata": {
    "collapsed": true
   },
   "outputs": [],
   "source": [
    "# Data Analysis and Wrangling\n",
    "import pandas as pd\n",
    "import numpy as np\n",
    "import random as rnd\n",
    "import math\n",
    "\n",
    "# Visualization\n",
    "import seaborn as sns\n",
    "import matplotlib.pyplot as plt\n",
    "%matplotlib inline\n",
    "\n",
    "# Machine Learning\n",
    "from sklearn import linear_model\n",
    "from sklearn.model_selection import train_test_split"
   ]
  },
  {
   "cell_type": "markdown",
   "metadata": {},
   "source": [
    "# Extracting Data"
   ]
  },
  {
   "cell_type": "code",
   "execution_count": 18,
   "metadata": {
    "collapsed": true
   },
   "outputs": [],
   "source": [
    "list1 = pd.read_csv('listings.csv')\n",
    "list2 = pd.read_csv('listings2.csv')"
   ]
  },
  {
   "cell_type": "markdown",
   "metadata": {},
   "source": [
    "# Data Size Metrics"
   ]
  },
  {
   "cell_type": "code",
   "execution_count": 19,
   "metadata": {
    "collapsed": false
   },
   "outputs": [
    {
     "name": "stdout",
     "output_type": "stream",
     "text": [
      "(3818, 16)\n"
     ]
    }
   ],
   "source": [
    "#print(list1.columns.values)\n",
    "print(list1.shape)"
   ]
  },
  {
   "cell_type": "code",
   "execution_count": 20,
   "metadata": {
    "collapsed": false
   },
   "outputs": [
    {
     "name": "stdout",
     "output_type": "stream",
     "text": [
      "(3818, 92)\n"
     ]
    }
   ],
   "source": [
    "#list2.columns.values)\n",
    "print(list2.shape)"
   ]
  },
  {
   "cell_type": "code",
   "execution_count": 65,
   "metadata": {
    "collapsed": false
   },
   "outputs": [
    {
     "data": {
      "text/plain": [
       "(3818, 108)"
      ]
     },
     "execution_count": 65,
     "metadata": {},
     "output_type": "execute_result"
    }
   ],
   "source": [
    "# Join list1 and list2 to create the x vector\n",
    "X = pd.concat([list1, list2], axis=1)\n",
    "X.shape # Original Data Frame"
   ]
  },
  {
   "cell_type": "markdown",
   "metadata": {},
   "source": [
    "# Feature Engineering"
   ]
  },
  {
   "cell_type": "markdown",
   "metadata": {},
   "source": [
    "### Property Type"
   ]
  },
  {
   "cell_type": "code",
   "execution_count": 66,
   "metadata": {
    "collapsed": false
   },
   "outputs": [
    {
     "data": {
      "text/plain": [
       "House              1733\n",
       "Apartment          1708\n",
       "Townhouse           118\n",
       "Condominium          91\n",
       "Loft                 40\n",
       "Bed & Breakfast      37\n",
       "Other                22\n",
       "Cabin                21\n",
       "Camper/RV            13\n",
       "Bungalow             13\n",
       "Boat                  8\n",
       "Tent                  5\n",
       "Treehouse             3\n",
       "Chalet                2\n",
       "Dorm                  2\n",
       "Yurt                  1\n",
       "Name: property_type, dtype: int64"
      ]
     },
     "execution_count": 66,
     "metadata": {},
     "output_type": "execute_result"
    }
   ],
   "source": [
    "X=X[X['property_type'].notnull()]\n",
    "X['property_type'].value_counts()"
   ]
  },
  {
   "cell_type": "code",
   "execution_count": 67,
   "metadata": {
    "collapsed": false
   },
   "outputs": [
    {
     "data": {
      "text/plain": [
       "(3817, 108)"
      ]
     },
     "execution_count": 67,
     "metadata": {},
     "output_type": "execute_result"
    }
   ],
   "source": [
    "X.shape"
   ]
  },
  {
   "cell_type": "code",
   "execution_count": 68,
   "metadata": {
    "collapsed": false
   },
   "outputs": [
    {
     "data": {
      "text/plain": [
       "(3817, 124)"
      ]
     },
     "execution_count": 68,
     "metadata": {},
     "output_type": "execute_result"
    }
   ],
   "source": [
    "# Increasing the feature space\n",
    "i=0\n",
    "for item in X['property_type'].unique():\n",
    "    a=X['property_type'] == X['property_type'].unique()[i]\n",
    "    X[item] = a.map(lambda x: 1 if x == True else -1)\n",
    "    i=i+1\n",
    "X.shape"
   ]
  },
  {
   "cell_type": "markdown",
   "metadata": {},
   "source": [
    "### Bed Type"
   ]
  },
  {
   "cell_type": "code",
   "execution_count": 69,
   "metadata": {
    "collapsed": false
   },
   "outputs": [
    {
     "data": {
      "text/plain": [
       "array(['Real Bed', 'Futon', 'Pull-out Sofa', 'Airbed', 'Couch'], dtype=object)"
      ]
     },
     "execution_count": 69,
     "metadata": {},
     "output_type": "execute_result"
    }
   ],
   "source": [
    "X=X[X['bed_type'].notnull()]\n",
    "X['bed_type'].unique()"
   ]
  },
  {
   "cell_type": "code",
   "execution_count": 109,
   "metadata": {
    "collapsed": false
   },
   "outputs": [
    {
     "data": {
      "text/plain": [
       "(3817, 132)"
      ]
     },
     "execution_count": 109,
     "metadata": {},
     "output_type": "execute_result"
    }
   ],
   "source": [
    "# Increasing the feature space\n",
    "i=0\n",
    "for item in X['bed_type'].unique():\n",
    "    a=X['bed_type'] == X['bed_type'].unique()[i]\n",
    "    X[item] = a.map(lambda x: 1 if x == True else -1)\n",
    "    i=i+1\n",
    "X.shape"
   ]
  },
  {
   "cell_type": "markdown",
   "metadata": {},
   "source": [
    "### Extracting Numerical Values"
   ]
  },
  {
   "cell_type": "code",
   "execution_count": 210,
   "metadata": {
    "collapsed": true
   },
   "outputs": [],
   "source": [
    "Z1=X.loc[:, X.dtypes == np.float64] #Extracting columns with values of type float \n",
    "Z2=X.loc[:, X.dtypes == np.int64]   #Extracting columns with values of type int\n",
    "X_numeric=pd.concat([Z1,Z2], axis=1)"
   ]
  },
  {
   "cell_type": "code",
   "execution_count": 231,
   "metadata": {
    "collapsed": false
   },
   "outputs": [
    {
     "name": "stdout",
     "output_type": "stream",
     "text": [
      "<class 'pandas.core.frame.DataFrame'>\n",
      "Int64Index: 3817 entries, 0 to 3817\n",
      "Data columns (total 55 columns):\n",
      "Airbed                            3817 non-null int64\n",
      "Apartment                         3817 non-null int64\n",
      "Bed & Breakfast                   3817 non-null int64\n",
      "Boat                              3817 non-null int64\n",
      "Bungalow                          3817 non-null int64\n",
      "Cabin                             3817 non-null int64\n",
      "Camper/RV                         3817 non-null int64\n",
      "Chalet                            3817 non-null int64\n",
      "Condominium                       3817 non-null int64\n",
      "Couch                             3817 non-null int64\n",
      "Dorm                              3817 non-null int64\n",
      "Futon                             3817 non-null int64\n",
      "House                             3817 non-null int64\n",
      "Loft                              3817 non-null int64\n",
      "Other                             3817 non-null int64\n",
      "Pull-out Sofa                     3817 non-null int64\n",
      "Real Bed                          3817 non-null int64\n",
      "Tent                              3817 non-null int64\n",
      "Townhouse                         3817 non-null int64\n",
      "Treehouse                         3817 non-null int64\n",
      "Yurt                              3817 non-null int64\n",
      "accommodates                      3817 non-null int64\n",
      "availability_30                   3817 non-null int64\n",
      "availability_365                  3817 non-null int64\n",
      "availability_60                   3817 non-null int64\n",
      "availability_90                   3817 non-null int64\n",
      "bathrooms                         3801 non-null float64\n",
      "bedrooms                          3811 non-null float64\n",
      "beds                              3816 non-null float64\n",
      "calculated_host_listings_count    3817 non-null int64\n",
      "flexible                          3817 non-null int64\n",
      "guests_included                   3817 non-null int64\n",
      "host_id                           3817 non-null int64\n",
      "host_listings_count               3815 non-null float64\n",
      "host_total_listings_count         3815 non-null float64\n",
      "id                                3817 non-null int64\n",
      "latitude                          3817 non-null float64\n",
      "license                           0 non-null float64\n",
      "longitude                         3817 non-null float64\n",
      "maximum_nights                    3817 non-null int64\n",
      "minimum_nights                    3817 non-null int64\n",
      "moderate                          3817 non-null int64\n",
      "number_of_reviews                 3817 non-null int64\n",
      "price                             3817 non-null int64\n",
      "review_scores_accuracy            3160 non-null float64\n",
      "review_scores_checkin             3160 non-null float64\n",
      "review_scores_cleanliness         3165 non-null float64\n",
      "review_scores_communication       3167 non-null float64\n",
      "review_scores_location            3163 non-null float64\n",
      "review_scores_rating              3171 non-null float64\n",
      "review_scores_value               3162 non-null float64\n",
      "reviews_per_month                 3191 non-null float64\n",
      "scrape_id                         3817 non-null int64\n",
      "square_feet                       97 non-null float64\n",
      "strict                            3817 non-null int64\n",
      "dtypes: float64(17), int64(38)\n",
      "memory usage: 1.8 MB\n"
     ]
    }
   ],
   "source": [
    "# X_numeric has duplicate columns. The code below removes the duplicate columns\n",
    "_, i = np.unique(X_numeric.columns, return_index=True)\n",
    "X_Num_Cov=X_numeric.iloc[:, i]\n",
    "X_Num_Cov.to_csv('Numerical_FS.csv')\n",
    "X_Num_Cov.shape\n",
    "X_Num_Cov.info()"
   ]
  },
  {
   "cell_type": "markdown",
   "metadata": {},
   "source": [
    "### Latitude and Longitude"
   ]
  },
  {
   "cell_type": "markdown",
   "metadata": {},
   "source": [
    "### Using KNN for local model fitting"
   ]
  },
  {
   "cell_type": "code",
   "execution_count": 232,
   "metadata": {
    "collapsed": false
   },
   "outputs": [],
   "source": [
    "# Defining the points for KNN algorithm\n",
    "lat=np.linspace(47.55,47.70,3)\n",
    "long=np.linspace(-122.3875,-122.2875,3)\n",
    "encode=[]\n",
    "for i in range(0,len(X_Num_Cov['latitude'])):\n",
    "    delta_arr=[]\n",
    "    for j in range(0,len(lat)):\n",
    "        for k in range(0,len(long)):\n",
    "            a=(X_Num_Cov['latitude'].iloc[i]-lat[j])**2\n",
    "            b=(X_Num_Cov['longitude'].iloc[i]-long[k])**2\n",
    "            c=a+b\n",
    "            delta_arr.append(c)\n",
    "    delta=min(delta_arr)\n",
    "    encode.append((np.array(delta_arr)<=delta).astype(int))"
   ]
  },
  {
   "cell_type": "code",
   "execution_count": null,
   "metadata": {
    "collapsed": false
   },
   "outputs": [],
   "source": []
  },
  {
   "cell_type": "code",
   "execution_count": 235,
   "metadata": {
    "collapsed": false
   },
   "outputs": [],
   "source": [
    "knn1=[]\n",
    "knn2=[]\n",
    "knn3=[]\n",
    "knn4=[]\n",
    "knn5=[]\n",
    "knn6=[]\n",
    "knn7=[]\n",
    "knn8=[]\n",
    "knn9=[]\n",
    "for i in range(0,len(encode)):\n",
    "    knn1.append(encode[i][0])\n",
    "    knn2.append(encode[i][1])\n",
    "    knn3.append(encode[i][2])\n",
    "    knn4.append(encode[i][3])\n",
    "    knn5.append(encode[i][4])\n",
    "    knn6.append(encode[i][5])\n",
    "    knn7.append(encode[i][6])\n",
    "    knn8.append(encode[i][7])\n",
    "    knn9.append(encode[i][8])"
   ]
  },
  {
   "cell_type": "code",
   "execution_count": 236,
   "metadata": {
    "collapsed": false
   },
   "outputs": [
    {
     "name": "stdout",
     "output_type": "stream",
     "text": [
      "<class 'pandas.core.frame.DataFrame'>\n",
      "Int64Index: 3818 entries, 0 to 3817\n",
      "Data columns (total 64 columns):\n",
      "Airbed                            3817 non-null float64\n",
      "Apartment                         3817 non-null float64\n",
      "Bed & Breakfast                   3817 non-null float64\n",
      "Boat                              3817 non-null float64\n",
      "Bungalow                          3817 non-null float64\n",
      "Cabin                             3817 non-null float64\n",
      "Camper/RV                         3817 non-null float64\n",
      "Chalet                            3817 non-null float64\n",
      "Condominium                       3817 non-null float64\n",
      "Couch                             3817 non-null float64\n",
      "Dorm                              3817 non-null float64\n",
      "Futon                             3817 non-null float64\n",
      "House                             3817 non-null float64\n",
      "Loft                              3817 non-null float64\n",
      "Other                             3817 non-null float64\n",
      "Pull-out Sofa                     3817 non-null float64\n",
      "Real Bed                          3817 non-null float64\n",
      "Tent                              3817 non-null float64\n",
      "Townhouse                         3817 non-null float64\n",
      "Treehouse                         3817 non-null float64\n",
      "Yurt                              3817 non-null float64\n",
      "accommodates                      3817 non-null float64\n",
      "availability_30                   3817 non-null float64\n",
      "availability_365                  3817 non-null float64\n",
      "availability_60                   3817 non-null float64\n",
      "availability_90                   3817 non-null float64\n",
      "bathrooms                         3801 non-null float64\n",
      "bedrooms                          3811 non-null float64\n",
      "beds                              3816 non-null float64\n",
      "calculated_host_listings_count    3817 non-null float64\n",
      "flexible                          3817 non-null float64\n",
      "guests_included                   3817 non-null float64\n",
      "host_id                           3817 non-null float64\n",
      "host_listings_count               3815 non-null float64\n",
      "host_total_listings_count         3815 non-null float64\n",
      "id                                3817 non-null float64\n",
      "latitude                          3817 non-null float64\n",
      "license                           0 non-null float64\n",
      "longitude                         3817 non-null float64\n",
      "maximum_nights                    3817 non-null float64\n",
      "minimum_nights                    3817 non-null float64\n",
      "moderate                          3817 non-null float64\n",
      "number_of_reviews                 3817 non-null float64\n",
      "price                             3817 non-null float64\n",
      "review_scores_accuracy            3160 non-null float64\n",
      "review_scores_checkin             3160 non-null float64\n",
      "review_scores_cleanliness         3165 non-null float64\n",
      "review_scores_communication       3167 non-null float64\n",
      "review_scores_location            3163 non-null float64\n",
      "review_scores_rating              3171 non-null float64\n",
      "review_scores_value               3162 non-null float64\n",
      "reviews_per_month                 3191 non-null float64\n",
      "scrape_id                         3817 non-null float64\n",
      "square_feet                       97 non-null float64\n",
      "strict                            3817 non-null float64\n",
      "knn1                              3817 non-null float64\n",
      "knn2                              3817 non-null float64\n",
      "knn3                              3817 non-null float64\n",
      "knn4                              3817 non-null float64\n",
      "knn5                              3817 non-null float64\n",
      "knn6                              3817 non-null float64\n",
      "knn7                              3817 non-null float64\n",
      "knn8                              3817 non-null float64\n",
      "knn9                              3817 non-null float64\n",
      "dtypes: float64(64)\n",
      "memory usage: 1.9 MB\n"
     ]
    }
   ],
   "source": [
    "knn1_s=pd.Series( (v for v in np.array(knn1)) ,name='knn1')\n",
    "knn2_s=pd.Series( (v for v in np.array(knn2)),name='knn2' )\n",
    "knn3_s=pd.Series( (v for v in np.array(knn3)),name='knn3' )\n",
    "knn4_s=pd.Series( (v for v in np.array(knn4)) ,name='knn4')\n",
    "knn5_s=pd.Series( (v for v in np.array(knn5)) ,name='knn5')\n",
    "knn6_s=pd.Series( (v for v in np.array(knn6)) ,name='knn6')\n",
    "knn7_s=pd.Series( (v for v in np.array(knn7)) ,name='knn7')\n",
    "knn8_s=pd.Series( (v for v in np.array(knn8)) ,name='knn8')\n",
    "knn9_s=pd.Series( (v for v in np.array(knn9)) ,name='knn9')\n",
    "X_Num_Cov=pd.concat([X_Num_Cov,knn1_s,knn2_s,knn3_s,knn4_s,knn5_s,knn6_s,knn7_s,knn8_s,knn9_s],axis=1)\n",
    "X_Num_Cov.info()"
   ]
  },
  {
   "cell_type": "code",
   "execution_count": 248,
   "metadata": {
    "collapsed": false
   },
   "outputs": [],
   "source": [
    "# This cell constructs the new feature space\n",
    "space=['accommodates','bathrooms','bedrooms','beds','guests_included','price','reviews_per_month','review_scores_value','knn1',\n",
    "      'knn2','knn3','knn4','knn5','knn6','knn7','knn8','knn9']\n",
    "for item in X['property_type'].unique().tolist():\n",
    "    space.append(item)\n",
    "for item in X['bed_type'].unique().tolist():\n",
    "    space.append(item)\n",
    "for item in X['cancellation_policy'].unique().tolist():\n",
    "    space.append(item)"
   ]
  },
  {
   "cell_type": "code",
   "execution_count": 269,
   "metadata": {
    "collapsed": false,
    "scrolled": false
   },
   "outputs": [
    {
     "name": "stdout",
     "output_type": "stream",
     "text": [
      "<class 'pandas.core.frame.DataFrame'>\n",
      "Int64Index: 3144 entries, 0 to 3814\n",
      "Data columns (total 40 columns):\n",
      "accommodates           3144 non-null float64\n",
      "bathrooms              3144 non-null float64\n",
      "bedrooms               3144 non-null float64\n",
      "beds                   3144 non-null float64\n",
      "guests_included        3144 non-null float64\n",
      "price                  3144 non-null float64\n",
      "review_scores_value    3144 non-null float64\n",
      "knn1                   3144 non-null float64\n",
      "knn2                   3144 non-null float64\n",
      "knn3                   3144 non-null float64\n",
      "knn4                   3144 non-null float64\n",
      "knn5                   3144 non-null float64\n",
      "knn6                   3144 non-null float64\n",
      "knn7                   3144 non-null float64\n",
      "knn8                   3144 non-null float64\n",
      "knn9                   3144 non-null float64\n",
      "Apartment              3144 non-null float64\n",
      "House                  3144 non-null float64\n",
      "Cabin                  3144 non-null float64\n",
      "Condominium            3144 non-null float64\n",
      "Camper/RV              3144 non-null float64\n",
      "Bungalow               3144 non-null float64\n",
      "Townhouse              3144 non-null float64\n",
      "Loft                   3144 non-null float64\n",
      "Boat                   3144 non-null float64\n",
      "Bed & Breakfast        3144 non-null float64\n",
      "Other                  3144 non-null float64\n",
      "Dorm                   3144 non-null float64\n",
      "Treehouse              3144 non-null float64\n",
      "Yurt                   3144 non-null float64\n",
      "Chalet                 3144 non-null float64\n",
      "Tent                   3144 non-null float64\n",
      "Real Bed               3144 non-null float64\n",
      "Futon                  3144 non-null float64\n",
      "Pull-out Sofa          3144 non-null float64\n",
      "Airbed                 3144 non-null float64\n",
      "Couch                  3144 non-null float64\n",
      "moderate               3144 non-null float64\n",
      "strict                 3144 non-null float64\n",
      "flexible               3144 non-null float64\n",
      "dtypes: float64(40)\n",
      "memory usage: 1007.1 KB\n",
      "None\n"
     ]
    },
    {
     "data": {
      "text/html": [
       "<div>\n",
       "<style scoped>\n",
       "    .dataframe tbody tr th:only-of-type {\n",
       "        vertical-align: middle;\n",
       "    }\n",
       "\n",
       "    .dataframe tbody tr th {\n",
       "        vertical-align: top;\n",
       "    }\n",
       "\n",
       "    .dataframe thead th {\n",
       "        text-align: right;\n",
       "    }\n",
       "</style>\n",
       "<table border=\"1\" class=\"dataframe\">\n",
       "  <thead>\n",
       "    <tr style=\"text-align: right;\">\n",
       "      <th></th>\n",
       "      <th>accommodates</th>\n",
       "      <th>bathrooms</th>\n",
       "      <th>bedrooms</th>\n",
       "      <th>beds</th>\n",
       "      <th>guests_included</th>\n",
       "      <th>price</th>\n",
       "      <th>review_scores_value</th>\n",
       "      <th>knn1</th>\n",
       "      <th>knn2</th>\n",
       "      <th>knn3</th>\n",
       "      <th>...</th>\n",
       "      <th>Chalet</th>\n",
       "      <th>Tent</th>\n",
       "      <th>Real Bed</th>\n",
       "      <th>Futon</th>\n",
       "      <th>Pull-out Sofa</th>\n",
       "      <th>Airbed</th>\n",
       "      <th>Couch</th>\n",
       "      <th>moderate</th>\n",
       "      <th>strict</th>\n",
       "      <th>flexible</th>\n",
       "    </tr>\n",
       "  </thead>\n",
       "  <tbody>\n",
       "    <tr>\n",
       "      <th>0</th>\n",
       "      <td>4.0</td>\n",
       "      <td>1.0</td>\n",
       "      <td>1.0</td>\n",
       "      <td>1.0</td>\n",
       "      <td>2.0</td>\n",
       "      <td>85.0</td>\n",
       "      <td>10.0</td>\n",
       "      <td>0.0</td>\n",
       "      <td>0.0</td>\n",
       "      <td>0.0</td>\n",
       "      <td>...</td>\n",
       "      <td>-1.0</td>\n",
       "      <td>-1.0</td>\n",
       "      <td>1.0</td>\n",
       "      <td>-1.0</td>\n",
       "      <td>-1.0</td>\n",
       "      <td>-1.0</td>\n",
       "      <td>-1.0</td>\n",
       "      <td>1.0</td>\n",
       "      <td>-1.0</td>\n",
       "      <td>-1.0</td>\n",
       "    </tr>\n",
       "    <tr>\n",
       "      <th>1</th>\n",
       "      <td>4.0</td>\n",
       "      <td>1.0</td>\n",
       "      <td>1.0</td>\n",
       "      <td>1.0</td>\n",
       "      <td>1.0</td>\n",
       "      <td>150.0</td>\n",
       "      <td>10.0</td>\n",
       "      <td>0.0</td>\n",
       "      <td>0.0</td>\n",
       "      <td>0.0</td>\n",
       "      <td>...</td>\n",
       "      <td>-1.0</td>\n",
       "      <td>-1.0</td>\n",
       "      <td>1.0</td>\n",
       "      <td>-1.0</td>\n",
       "      <td>-1.0</td>\n",
       "      <td>-1.0</td>\n",
       "      <td>-1.0</td>\n",
       "      <td>-1.0</td>\n",
       "      <td>1.0</td>\n",
       "      <td>-1.0</td>\n",
       "    </tr>\n",
       "    <tr>\n",
       "      <th>2</th>\n",
       "      <td>11.0</td>\n",
       "      <td>4.5</td>\n",
       "      <td>5.0</td>\n",
       "      <td>7.0</td>\n",
       "      <td>10.0</td>\n",
       "      <td>975.0</td>\n",
       "      <td>10.0</td>\n",
       "      <td>0.0</td>\n",
       "      <td>0.0</td>\n",
       "      <td>0.0</td>\n",
       "      <td>...</td>\n",
       "      <td>-1.0</td>\n",
       "      <td>-1.0</td>\n",
       "      <td>1.0</td>\n",
       "      <td>-1.0</td>\n",
       "      <td>-1.0</td>\n",
       "      <td>-1.0</td>\n",
       "      <td>-1.0</td>\n",
       "      <td>-1.0</td>\n",
       "      <td>1.0</td>\n",
       "      <td>-1.0</td>\n",
       "    </tr>\n",
       "    <tr>\n",
       "      <th>4</th>\n",
       "      <td>6.0</td>\n",
       "      <td>2.0</td>\n",
       "      <td>3.0</td>\n",
       "      <td>3.0</td>\n",
       "      <td>6.0</td>\n",
       "      <td>450.0</td>\n",
       "      <td>9.0</td>\n",
       "      <td>0.0</td>\n",
       "      <td>0.0</td>\n",
       "      <td>0.0</td>\n",
       "      <td>...</td>\n",
       "      <td>-1.0</td>\n",
       "      <td>-1.0</td>\n",
       "      <td>1.0</td>\n",
       "      <td>-1.0</td>\n",
       "      <td>-1.0</td>\n",
       "      <td>-1.0</td>\n",
       "      <td>-1.0</td>\n",
       "      <td>-1.0</td>\n",
       "      <td>1.0</td>\n",
       "      <td>-1.0</td>\n",
       "    </tr>\n",
       "    <tr>\n",
       "      <th>5</th>\n",
       "      <td>2.0</td>\n",
       "      <td>1.0</td>\n",
       "      <td>1.0</td>\n",
       "      <td>1.0</td>\n",
       "      <td>1.0</td>\n",
       "      <td>120.0</td>\n",
       "      <td>10.0</td>\n",
       "      <td>0.0</td>\n",
       "      <td>0.0</td>\n",
       "      <td>0.0</td>\n",
       "      <td>...</td>\n",
       "      <td>-1.0</td>\n",
       "      <td>-1.0</td>\n",
       "      <td>1.0</td>\n",
       "      <td>-1.0</td>\n",
       "      <td>-1.0</td>\n",
       "      <td>-1.0</td>\n",
       "      <td>-1.0</td>\n",
       "      <td>-1.0</td>\n",
       "      <td>1.0</td>\n",
       "      <td>-1.0</td>\n",
       "    </tr>\n",
       "  </tbody>\n",
       "</table>\n",
       "<p>5 rows × 40 columns</p>\n",
       "</div>"
      ],
      "text/plain": [
       "   accommodates  bathrooms  bedrooms  beds  guests_included  price  \\\n",
       "0           4.0        1.0       1.0   1.0              2.0   85.0   \n",
       "1           4.0        1.0       1.0   1.0              1.0  150.0   \n",
       "2          11.0        4.5       5.0   7.0             10.0  975.0   \n",
       "4           6.0        2.0       3.0   3.0              6.0  450.0   \n",
       "5           2.0        1.0       1.0   1.0              1.0  120.0   \n",
       "\n",
       "   review_scores_value  knn1  knn2  knn3    ...     Chalet  Tent  Real Bed  \\\n",
       "0                 10.0   0.0   0.0   0.0    ...       -1.0  -1.0       1.0   \n",
       "1                 10.0   0.0   0.0   0.0    ...       -1.0  -1.0       1.0   \n",
       "2                 10.0   0.0   0.0   0.0    ...       -1.0  -1.0       1.0   \n",
       "4                  9.0   0.0   0.0   0.0    ...       -1.0  -1.0       1.0   \n",
       "5                 10.0   0.0   0.0   0.0    ...       -1.0  -1.0       1.0   \n",
       "\n",
       "   Futon  Pull-out Sofa  Airbed  Couch  moderate  strict  flexible  \n",
       "0   -1.0           -1.0    -1.0   -1.0       1.0    -1.0      -1.0  \n",
       "1   -1.0           -1.0    -1.0   -1.0      -1.0     1.0      -1.0  \n",
       "2   -1.0           -1.0    -1.0   -1.0      -1.0     1.0      -1.0  \n",
       "4   -1.0           -1.0    -1.0   -1.0      -1.0     1.0      -1.0  \n",
       "5   -1.0           -1.0    -1.0   -1.0      -1.0     1.0      -1.0  \n",
       "\n",
       "[5 rows x 40 columns]"
      ]
     },
     "execution_count": 269,
     "metadata": {},
     "output_type": "execute_result"
    }
   ],
   "source": [
    "# Selecting certian numerical features\n",
    "X_select = X_Num_Cov[space]\n",
    "# Dropping the missing values from the feature space\n",
    "X_select = X_select.dropna()\n",
    "# Creating the output space\n",
    "Y = X_select['reviews_per_month']\n",
    "X_select = X_select.drop(['reviews_per_month'], axis = 1)\n",
    "print(X_select.info())\n",
    "X_select.head()"
   ]
  },
  {
   "cell_type": "markdown",
   "metadata": {},
   "source": [
    "# Preliminary Model Analysis"
   ]
  },
  {
   "cell_type": "markdown",
   "metadata": {},
   "source": [
    "### Splitting data into training and testing sets"
   ]
  },
  {
   "cell_type": "code",
   "execution_count": 260,
   "metadata": {
    "collapsed": false
   },
   "outputs": [],
   "source": [
    "from sklearn.model_selection import cross_val_score\n",
    "num_test = 0.20 #20% of the data set will be used for testing the final model\n",
    "X_train, X_test, y_train, y_test = train_test_split(X_select, Y, test_size=num_test, random_state=100)"
   ]
  },
  {
   "cell_type": "markdown",
   "metadata": {},
   "source": []
  },
  {
   "cell_type": "code",
   "execution_count": null,
   "metadata": {
    "collapsed": true
   },
   "outputs": [],
   "source": []
  },
  {
   "cell_type": "code",
   "execution_count": null,
   "metadata": {
    "collapsed": false
   },
   "outputs": [],
   "source": []
  },
  {
   "cell_type": "markdown",
   "metadata": {},
   "source": [
    "## Ridge regression + Hyperparameter Tuning via Cross Validation"
   ]
  },
  {
   "cell_type": "code",
   "execution_count": 261,
   "metadata": {
    "collapsed": false
   },
   "outputs": [
    {
     "name": "stdout",
     "output_type": "stream",
     "text": [
      "Accuracy: 0.53 (+/- 0.15)\n"
     ]
    }
   ],
   "source": [
    "from sklearn.linear_model import Ridge\n",
    "clf = Ridge(alpha=5.0)\n",
    "scores = cross_val_score(clf, X_train, y_train, cv=5)\n",
    "print(\"Accuracy: %0.2f (+/- %0.2f)\" % (scores.mean(), scores.std() * 2))"
   ]
  },
  {
   "cell_type": "markdown",
   "metadata": {},
   "source": [
    "#### Fitting the selected model "
   ]
  },
  {
   "cell_type": "code",
   "execution_count": 262,
   "metadata": {
    "collapsed": false
   },
   "outputs": [
    {
     "data": {
      "text/plain": [
       "Ridge(alpha=5.0, copy_X=True, fit_intercept=True, max_iter=None,\n",
       "   normalize=False, random_state=None, solver='auto', tol=0.001)"
      ]
     },
     "execution_count": 262,
     "metadata": {},
     "output_type": "execute_result"
    }
   ],
   "source": [
    "clf.fit(X_train,y_train)"
   ]
  },
  {
   "cell_type": "markdown",
   "metadata": {},
   "source": [
    "#### Making Predictions"
   ]
  },
  {
   "cell_type": "code",
   "execution_count": 263,
   "metadata": {
    "collapsed": false
   },
   "outputs": [],
   "source": [
    "y_test_predict=clf.predict(X_test)"
   ]
  },
  {
   "cell_type": "code",
   "execution_count": 264,
   "metadata": {
    "collapsed": false
   },
   "outputs": [],
   "source": [
    "y_train_predict=clf.predict(X_train)"
   ]
  },
  {
   "cell_type": "markdown",
   "metadata": {},
   "source": [
    "#### Model Performance Evaluation"
   ]
  },
  {
   "cell_type": "code",
   "execution_count": 265,
   "metadata": {
    "collapsed": false
   },
   "outputs": [
    {
     "data": {
      "text/plain": [
       "61.81386392226642"
      ]
     },
     "execution_count": 265,
     "metadata": {},
     "output_type": "execute_result"
    }
   ],
   "source": [
    "from sklearn.metrics import mean_squared_error\n",
    "from math import sqrt\n",
    "\n",
    "rms_test = sqrt(mean_squared_error(y_test, y_test_predict))\n",
    "rms_test"
   ]
  },
  {
   "cell_type": "code",
   "execution_count": 266,
   "metadata": {
    "collapsed": false
   },
   "outputs": [
    {
     "data": {
      "text/plain": [
       "60.266496119052796"
      ]
     },
     "execution_count": 266,
     "metadata": {},
     "output_type": "execute_result"
    }
   ],
   "source": [
    "rms_train = sqrt(mean_squared_error(y_train, y_train_predict))\n",
    "rms_train"
   ]
  },
  {
   "cell_type": "code",
   "execution_count": 267,
   "metadata": {
    "collapsed": false
   },
   "outputs": [
    {
     "data": {
      "text/plain": [
       "0.56147800615003873"
      ]
     },
     "execution_count": 267,
     "metadata": {},
     "output_type": "execute_result"
    }
   ],
   "source": [
    "clf.score(X_train, y_train)"
   ]
  },
  {
   "cell_type": "code",
   "execution_count": 268,
   "metadata": {
    "collapsed": false
   },
   "outputs": [
    {
     "data": {
      "text/plain": [
       "0.49680017050872149"
      ]
     },
     "execution_count": 268,
     "metadata": {},
     "output_type": "execute_result"
    }
   ],
   "source": [
    "clf.score(X_test, y_test)"
   ]
  },
  {
   "cell_type": "code",
   "execution_count": null,
   "metadata": {
    "collapsed": true
   },
   "outputs": [],
   "source": []
  }
 ],
 "metadata": {
  "kernelspec": {
   "display_name": "Python 3",
   "language": "python",
   "name": "python3"
  },
  "language_info": {
   "codemirror_mode": {
    "name": "ipython",
    "version": 3
   },
   "file_extension": ".py",
   "mimetype": "text/x-python",
   "name": "python",
   "nbconvert_exporter": "python",
   "pygments_lexer": "ipython3",
   "version": "3.6.0"
  }
 },
 "nbformat": 4,
 "nbformat_minor": 2
}
