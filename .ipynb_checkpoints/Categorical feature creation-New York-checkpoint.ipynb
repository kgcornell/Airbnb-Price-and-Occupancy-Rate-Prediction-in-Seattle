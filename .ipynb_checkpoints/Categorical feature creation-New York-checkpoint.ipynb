{
 "cells": [
  {
   "cell_type": "code",
   "execution_count": 1,
   "metadata": {
    "collapsed": true
   },
   "outputs": [],
   "source": [
    "# data analysis and wrangling\n",
    "import pandas as pd\n",
    "import numpy as np\n",
    "import random as rnd\n",
    "import math\n",
    "\n",
    "# visualization\n",
    "import seaborn as sns\n",
    "import matplotlib.pyplot as plt\n",
    "%matplotlib inline\n",
    "\n",
    "# machine learning\n",
    "from sklearn import linear_model\n",
    "from sklearn.ensemble import RandomForestClassifier\n",
    "from sklearn.tree import DecisionTreeClassifier\n",
    "from sklearn.model_selection import train_test_split"
   ]
  },
  {
   "cell_type": "code",
   "execution_count": 20,
   "metadata": {
    "scrolled": true
   },
   "outputs": [
    {
     "name": "stderr",
     "output_type": "stream",
     "text": [
      "/anaconda/lib/python3.5/site-packages/IPython/core/interactiveshell.py:2698: DtypeWarning: Columns (0,35,66) have mixed types. Specify dtype option on import or set low_memory=False.\n",
      "  interactivity=interactivity, compiler=compiler, result=result)\n"
     ]
    }
   ],
   "source": [
    "cateset = pd.read_csv('NY/NYCatgorical_FS.csv')"
   ]
  },
  {
   "cell_type": "code",
   "execution_count": 3,
   "metadata": {},
   "outputs": [
    {
     "name": "stdout",
     "output_type": "stream",
     "text": [
      "['Unnamed: 0' 'access' 'amenities' 'bed_type' 'calendar_last_scraped'\n",
      " 'calendar_updated' 'cancellation_policy' 'city' 'cleaning_fee' 'country'\n",
      " 'country_code' 'description' 'experiences_offered' 'extra_people'\n",
      " 'first_review' 'has_availability' 'host_about' 'host_has_profile_pic'\n",
      " 'host_identity_verified' 'host_is_superhost' 'host_location' 'host_name'\n",
      " 'host_neighbourhood' 'host_picture_url' 'host_response_rate'\n",
      " 'host_response_time' 'host_since' 'host_thumbnail_url' 'host_url'\n",
      " 'host_verifications' 'house_rules' 'instant_bookable' 'interaction'\n",
      " 'is_business_travel_ready' 'is_location_exact' 'jurisdiction_names'\n",
      " 'last_review' 'last_scraped' 'listing_url' 'market' 'medium_url'\n",
      " 'monthly_price' 'name' 'neighborhood_overview' 'neighbourhood'\n",
      " 'neighbourhood_cleansed' 'neighbourhood_group'\n",
      " 'neighbourhood_group_cleansed' 'notes' 'picture_url' 'price'\n",
      " 'property_type' 'require_guest_phone_verification'\n",
      " 'require_guest_profile_picture' 'requires_license' 'room_type'\n",
      " 'security_deposit' 'smart_location' 'space' 'state' 'street' 'summary'\n",
      " 'thumbnail_url' 'transit' 'weekly_price' 'xl_picture_url' 'zipcode']\n"
     ]
    }
   ],
   "source": [
    "print(cateset.columns.values)"
   ]
  },
  {
   "cell_type": "markdown",
   "metadata": {},
   "source": [
    "# amenities"
   ]
  },
  {
   "cell_type": "code",
   "execution_count": 4,
   "metadata": {
    "collapsed": true
   },
   "outputs": [],
   "source": [
    "amenities = cateset['amenities']"
   ]
  },
  {
   "cell_type": "code",
   "execution_count": 5,
   "metadata": {
    "collapsed": true
   },
   "outputs": [],
   "source": [
    "import re\n",
    "amenities_items = []\n",
    "for i in range(3818):\n",
    "    a = re.findall(',([^\"]*),', amenities[i])\n",
    "    b = re.findall('\"([^\"]*)\"', amenities[i])\n",
    "    for j in range(len(a)):\n",
    "        if a[j] not in amenities_items:\n",
    "            amenities_items.append(a[j])\n",
    "    for j in range(len(b)):\n",
    "        if b[j] not in amenities_items:\n",
    "            amenities_items.append(b[j])\n",
    "amenities_items.append('TV')"
   ]
  },
  {
   "cell_type": "code",
   "execution_count": 6,
   "metadata": {
    "collapsed": true
   },
   "outputs": [],
   "source": [
    "newlist = []\n",
    "for word in amenities_items:\n",
    "    word = word.split(\",\")\n",
    "    newlist.extend(word)\n"
   ]
  },
  {
   "cell_type": "code",
   "execution_count": 7,
   "metadata": {
    "collapsed": true
   },
   "outputs": [],
   "source": [
    "amenities_items = []\n",
    "for i in newlist:\n",
    "    if i not in amenities_items:\n",
    "        amenities_items.append(i)"
   ]
  },
  {
   "cell_type": "code",
   "execution_count": 8,
   "metadata": {
    "collapsed": true,
    "scrolled": true
   },
   "outputs": [],
   "source": [
    "amenities_items.remove(\"Washer / Dryer\")"
   ]
  },
  {
   "cell_type": "code",
   "execution_count": 11,
   "metadata": {
    "collapsed": true
   },
   "outputs": [],
   "source": [
    "amenities_items.remove(\"translation missing: en.hosting_amenity_49\")\n",
    "amenities_items.remove(\"translation missing: en.hosting_amenity_50\")\n",
    "amenities_items.remove(\" smooth pathway to front door\")\n",
    "amenities_items.remove(\"Pack ’n Play/travel crib\")"
   ]
  },
  {
   "cell_type": "code",
   "execution_count": 12,
   "metadata": {},
   "outputs": [
    {
     "data": {
      "text/plain": [
       "['Kitchen',\n",
       " 'Essentials',\n",
       " 'Wireless Internet',\n",
       " 'Air conditioning',\n",
       " 'Smoke detector',\n",
       " 'Carbon monoxide detector',\n",
       " 'First aid kit',\n",
       " 'Safety card',\n",
       " 'Hair dryer',\n",
       " 'Breakfast',\n",
       " 'Heating',\n",
       " 'Washer',\n",
       " 'Dryer',\n",
       " 'Hangers',\n",
       " 'Family/kid friendly',\n",
       " 'Fire extinguisher',\n",
       " 'Internet',\n",
       " 'Shampoo',\n",
       " 'Free parking on premises',\n",
       " 'Buzzer/wireless intercom',\n",
       " 'Cable TV',\n",
       " 'Gym',\n",
       " 'Pets allowed',\n",
       " 'Lock on bedroom door',\n",
       " 'Laptop friendly workspace',\n",
       " 'Microwave',\n",
       " 'Refrigerator',\n",
       " 'Oven',\n",
       " 'Stove',\n",
       " 'Coffee maker',\n",
       " 'Dishes and silverware',\n",
       " 'Cooking basics',\n",
       " 'Patio or balcony',\n",
       " 'Cat(s)',\n",
       " 'Iron',\n",
       " 'Pets live on this property',\n",
       " 'Indoor fireplace',\n",
       " 'Garden or backyard',\n",
       " 'Host greets you',\n",
       " '24-hour check-in',\n",
       " 'Self Check-In',\n",
       " 'Waterfront',\n",
       " 'Private entrance',\n",
       " 'Hot water',\n",
       " 'Bed linens',\n",
       " 'Extra pillows and blankets',\n",
       " 'Luggage dropoff allowed',\n",
       " 'Long term stays allowed',\n",
       " 'Cleaning before checkout',\n",
       " 'Wide hallway clearance',\n",
       " 'Well-lit path to entrance',\n",
       " 'Wide doorway',\n",
       " 'Accessible-height bed',\n",
       " 'Step-free access',\n",
       " 'Private living room',\n",
       " 'Keypad',\n",
       " 'Smoking allowed',\n",
       " 'Suitable for events',\n",
       " 'Elevator',\n",
       " 'Wheelchair accessible',\n",
       " 'Hot tub',\n",
       " 'Single level home',\n",
       " 'Ethernet connection',\n",
       " 'Accessible-height toilet',\n",
       " 'Wide entryway',\n",
       " 'Pool',\n",
       " 'Flat',\n",
       " 'Wide clearance to bed',\n",
       " 'Wide clearance to shower & toilet',\n",
       " 'Bathtub',\n",
       " 'Room-darkening shades',\n",
       " 'Dog(s)',\n",
       " 'Stair gates',\n",
       " 'Pocket wifi',\n",
       " 'Fixed grab bars for shower & toilet',\n",
       " 'Doorman',\n",
       " 'Lockbox',\n",
       " 'Children’s books and toys',\n",
       " 'Children’s dinnerware',\n",
       " 'Window guards',\n",
       " 'Other',\n",
       " 'Babysitter recommendations',\n",
       " 'Hot water kettle',\n",
       " 'Bathtub with shower chair',\n",
       " 'Game console',\n",
       " 'Dishwasher',\n",
       " 'Firm mattress',\n",
       " 'Crib',\n",
       " 'BBQ grill',\n",
       " 'High chair',\n",
       " 'Handheld shower head',\n",
       " 'Smart lock',\n",
       " 'Baby bath',\n",
       " 'Changing table',\n",
       " 'Lake access',\n",
       " 'Beach essentials',\n",
       " 'Beachfront',\n",
       " 'Ground floor access',\n",
       " 'Outlet covers',\n",
       " 'TV',\n",
       " 'Baby monitor',\n",
       " 'Table corner guards',\n",
       " 'Other pet(s)',\n",
       " 'Disabled parking spot',\n",
       " 'EV charger',\n",
       " 'Fireplace guards',\n",
       " 'Free parking on street',\n",
       " 'Private bathroom',\n",
       " 'Air purifier']"
      ]
     },
     "execution_count": 12,
     "metadata": {},
     "output_type": "execute_result"
    }
   ],
   "source": [
    "amenities_items"
   ]
  },
  {
   "cell_type": "code",
   "execution_count": 13,
   "metadata": {
    "collapsed": true
   },
   "outputs": [],
   "source": [
    "Catego = {}\n",
    "for i in amenities_items:\n",
    "    x = str(i)\n",
    "    Catego[x] = []\n",
    "    for j in amenities:\n",
    "        if i in j:\n",
    "            Catego[i].append(1)\n",
    "        else:\n",
    "            Catego[i].append(0)\n",
    "Categorical_feature = pd.DataFrame(Catego)"
   ]
  },
  {
   "cell_type": "code",
   "execution_count": 14,
   "metadata": {
    "collapsed": true
   },
   "outputs": [],
   "source": [
    "#Categorical_feature.to_csv('NY/amenities.csv')"
   ]
  },
  {
   "cell_type": "markdown",
   "metadata": {},
   "source": [
    "# bed_type"
   ]
  },
  {
   "cell_type": "code",
   "execution_count": 15,
   "metadata": {
    "collapsed": true
   },
   "outputs": [],
   "source": [
    "bed_type = cateset['bed_type']"
   ]
  },
  {
   "cell_type": "code",
   "execution_count": 16,
   "metadata": {},
   "outputs": [
    {
     "data": {
      "text/plain": [
       "{'Airbed', 'Couch', 'Futon', 'Pull-out Sofa', 'Real Bed', 'f'}"
      ]
     },
     "execution_count": 16,
     "metadata": {},
     "output_type": "execute_result"
    }
   ],
   "source": [
    "bed_type_items = set(bed_type)\n",
    "bed_type_items"
   ]
  },
  {
   "cell_type": "code",
   "execution_count": 17,
   "metadata": {
    "collapsed": true
   },
   "outputs": [],
   "source": [
    "Catego = {}\n",
    "for i in bed_type_items:\n",
    "    x = str(i)\n",
    "    Catego[x] = []\n",
    "    for j in bed_type:\n",
    "        if i in j:\n",
    "            Catego[i].append(1)\n",
    "        else:\n",
    "            Catego[i].append(0)\n",
    "bed_type_feature = pd.DataFrame(Catego)"
   ]
  },
  {
   "cell_type": "code",
   "execution_count": 18,
   "metadata": {
    "collapsed": true
   },
   "outputs": [],
   "source": [
    "#bed_type_feature.to_csv('NY/bed_type.csv')"
   ]
  },
  {
   "cell_type": "markdown",
   "metadata": {},
   "source": [
    "# cancellation_policy"
   ]
  },
  {
   "cell_type": "code",
   "execution_count": 19,
   "metadata": {
    "collapsed": true
   },
   "outputs": [],
   "source": [
    "cancellation_policy = cateset['cancellation_policy']"
   ]
  },
  {
   "cell_type": "code",
   "execution_count": 26,
   "metadata": {},
   "outputs": [
    {
     "data": {
      "text/plain": [
       "['strict', 'flexible', 'super_strict_60', 'super_strict_30', 'moderate']"
      ]
     },
     "execution_count": 26,
     "metadata": {},
     "output_type": "execute_result"
    }
   ],
   "source": [
    "cancellation_policy_items = set(cancellation_policy)\n",
    "cancellation_policy_items.remove(\"Brooklyn Navy Yard\")\n",
    "cancellation_policy_items.remove(\"Upper East Side\")\n",
    "cancellation_policy_items.remove(\"long_term\")\n",
    "cancellation_policy_items = [x for x in cancellation_policy_items if str(x) != 'nan']\n",
    "cancellation_policy_items"
   ]
  },
  {
   "cell_type": "code",
   "execution_count": 28,
   "metadata": {
    "collapsed": true
   },
   "outputs": [],
   "source": [
    "Catego = {}\n",
    "for i in cancellation_policy_items:\n",
    "    x = str(i)\n",
    "    Catego[x] = []\n",
    "    for j in cancellation_policy:\n",
    "        if type(j)!=float and i in j:\n",
    "            Catego[i].append(1)\n",
    "        else:\n",
    "            Catego[i].append(0)\n",
    "cancellation_policy_feature = pd.DataFrame(Catego)"
   ]
  },
  {
   "cell_type": "code",
   "execution_count": 29,
   "metadata": {
    "collapsed": true
   },
   "outputs": [],
   "source": [
    "#cancellation_policy_feature.to_csv('NY/cancellation_policy.csv')"
   ]
  },
  {
   "cell_type": "markdown",
   "metadata": {
    "collapsed": true
   },
   "source": [
    "# host_response_time"
   ]
  },
  {
   "cell_type": "code",
   "execution_count": 31,
   "metadata": {
    "scrolled": true
   },
   "outputs": [
    {
     "data": {
      "text/plain": [
       "0                       NaN\n",
       "1            within an hour\n",
       "2            within an hour\n",
       "3        within a few hours\n",
       "4                       NaN\n",
       "5            within an hour\n",
       "6            within an hour\n",
       "7            within an hour\n",
       "8        within a few hours\n",
       "9                       NaN\n",
       "10           within an hour\n",
       "11       a few days or more\n",
       "12           within an hour\n",
       "13           within an hour\n",
       "14           within an hour\n",
       "15           within an hour\n",
       "16           within an hour\n",
       "17                      NaN\n",
       "18           within an hour\n",
       "19                      NaN\n",
       "20           within an hour\n",
       "21       within a few hours\n",
       "22       within a few hours\n",
       "23             within a day\n",
       "24             within a day\n",
       "25           within an hour\n",
       "26           within an hour\n",
       "27           within an hour\n",
       "28           within an hour\n",
       "29           within an hour\n",
       "                ...        \n",
       "44290          within a day\n",
       "44291    a few days or more\n",
       "44292        within an hour\n",
       "44293                   NaN\n",
       "44294                   NaN\n",
       "44295                   NaN\n",
       "44296                   NaN\n",
       "44297        within an hour\n",
       "44298        within an hour\n",
       "44299        within an hour\n",
       "44300        within an hour\n",
       "44301    a few days or more\n",
       "44302    within a few hours\n",
       "44303                   NaN\n",
       "44304        within an hour\n",
       "44305    within a few hours\n",
       "44306        within an hour\n",
       "44307        within an hour\n",
       "44308        within an hour\n",
       "44309                   NaN\n",
       "44310    within a few hours\n",
       "44311    within a few hours\n",
       "44312        within an hour\n",
       "44313                   NaN\n",
       "44314    within a few hours\n",
       "44315        within an hour\n",
       "44316    within a few hours\n",
       "44317        within an hour\n",
       "44318        within an hour\n",
       "44319                   NaN\n",
       "Name: host_response_time, Length: 44320, dtype: object"
      ]
     },
     "execution_count": 31,
     "metadata": {},
     "output_type": "execute_result"
    }
   ],
   "source": [
    "host_response_time = cateset['host_response_time']\n",
    "host_response_time"
   ]
  },
  {
   "cell_type": "code",
   "execution_count": 32,
   "metadata": {
    "collapsed": true
   },
   "outputs": [],
   "source": [
    "for i in range(len(host_response_time)):\n",
    "    if type(host_response_time[i])==float:\n",
    "        host_response_time[i]=\"No answer\""
   ]
  },
  {
   "cell_type": "code",
   "execution_count": 33,
   "metadata": {},
   "outputs": [
    {
     "data": {
      "text/plain": [
       "{'No answer',\n",
       " 'a few days or more',\n",
       " 'within a day',\n",
       " 'within a few hours',\n",
       " 'within an hour'}"
      ]
     },
     "execution_count": 33,
     "metadata": {},
     "output_type": "execute_result"
    }
   ],
   "source": [
    "host_response_time_items = set(host_response_time)\n",
    "host_response_time_items"
   ]
  },
  {
   "cell_type": "code",
   "execution_count": 34,
   "metadata": {
    "collapsed": true
   },
   "outputs": [],
   "source": [
    "Catego = {}\n",
    "for i in host_response_time_items:\n",
    "    x = str(i)\n",
    "    Catego[x] = []\n",
    "    for j in host_response_time:\n",
    "        if i in j:\n",
    "            Catego[i].append(1)\n",
    "        else:\n",
    "            Catego[i].append(0)\n",
    "host_response_time_feature = pd.DataFrame(Catego)"
   ]
  },
  {
   "cell_type": "code",
   "execution_count": 35,
   "metadata": {
    "collapsed": true
   },
   "outputs": [],
   "source": [
    "#host_response_time_feature.to_csv('NY/host_response_time.csv')"
   ]
  },
  {
   "cell_type": "markdown",
   "metadata": {},
   "source": [
    "# host_verifications"
   ]
  },
  {
   "cell_type": "code",
   "execution_count": 3,
   "metadata": {
    "collapsed": true
   },
   "outputs": [],
   "source": [
    "host_verifications = cateset['host_verifications']"
   ]
  },
  {
   "cell_type": "code",
   "execution_count": 4,
   "metadata": {},
   "outputs": [
    {
     "data": {
      "text/plain": [
       "['email',\n",
       " 'phone',\n",
       " 'facebook',\n",
       " 'reviews',\n",
       " 'kba',\n",
       " 'reviews',\n",
       " 'facebook',\n",
       " 'phone',\n",
       " 'jumio',\n",
       " 'phone',\n",
       " 'phone',\n",
       " 'jumio',\n",
       " 'offline_government_id',\n",
       " 'kba',\n",
       " 'government_id',\n",
       " 'work_email',\n",
       " 'sent_id',\n",
       " 'amex',\n",
       " 'government_id',\n",
       " 'manual_offline',\n",
       " 'google',\n",
       " 'selfie',\n",
       " 'identity_manual',\n",
       " 'manual_offline',\n",
       " 'linkedin',\n",
       " 'manual_online',\n",
       " 'identity_manual',\n",
       " 'reviews',\n",
       " 'selfie',\n",
       " 'reviews',\n",
       " 'google',\n",
       " 'google']"
      ]
     },
     "execution_count": 4,
     "metadata": {},
     "output_type": "execute_result"
    }
   ],
   "source": [
    "host_verifications_items = []\n",
    "newlist = []\n",
    "for i in range(3818):\n",
    "    b = host_verifications[i].split(',')\n",
    "    for j in range(len(b)):\n",
    "        if b[j] not in host_verifications_items:\n",
    "            host_verifications_items.append(b[j])\n",
    "for i in range(len(host_verifications_items)):\n",
    "    host_verifications_items[i]=host_verifications_items[i][2:-1]\n",
    "for i in range(len(host_verifications_items)):\n",
    "    if \"'\" in host_verifications_items[i]:\n",
    "        newlist.append(host_verifications_items[i][:-1])\n",
    "    else:\n",
    "        newlist.append(host_verifications_items[i])\n",
    "newlist.remove('n')\n",
    "newlist.remove('')\n",
    "newlist"
   ]
  },
  {
   "cell_type": "code",
   "execution_count": 5,
   "metadata": {},
   "outputs": [
    {
     "data": {
      "text/plain": [
       "['email',\n",
       " 'phone',\n",
       " 'facebook',\n",
       " 'reviews',\n",
       " 'kba',\n",
       " 'jumio',\n",
       " 'offline_government_id',\n",
       " 'government_id',\n",
       " 'work_email',\n",
       " 'sent_id',\n",
       " 'amex',\n",
       " 'manual_offline',\n",
       " 'google',\n",
       " 'selfie',\n",
       " 'identity_manual',\n",
       " 'linkedin',\n",
       " 'manual_online']"
      ]
     },
     "execution_count": 5,
     "metadata": {},
     "output_type": "execute_result"
    }
   ],
   "source": [
    "host_verifications_items = []\n",
    "for i in newlist:\n",
    "    if i not in host_verifications_items:\n",
    "        host_verifications_items.append(i)\n",
    "host_verifications_items "
   ]
  },
  {
   "cell_type": "code",
   "execution_count": 6,
   "metadata": {
    "collapsed": true
   },
   "outputs": [],
   "source": [
    "Catego = {}\n",
    "for i in host_verifications_items:\n",
    "    x = str(i)\n",
    "    Catego[x] = []\n",
    "    for j in host_verifications:\n",
    "        if type(j) !=float and i in j:\n",
    "            Catego[i].append(1)\n",
    "        else:\n",
    "            Catego[i].append(0)\n",
    "host_verifications_feature = pd.DataFrame(Catego)"
   ]
  },
  {
   "cell_type": "code",
   "execution_count": 7,
   "metadata": {
    "collapsed": true
   },
   "outputs": [],
   "source": [
    "#host_verifications_feature.to_csv('NY/host_verifications.csv')"
   ]
  },
  {
   "cell_type": "markdown",
   "metadata": {},
   "source": [
    "# room_type"
   ]
  },
  {
   "cell_type": "code",
   "execution_count": 8,
   "metadata": {
    "collapsed": true
   },
   "outputs": [],
   "source": [
    "room_type = cateset['room_type']"
   ]
  },
  {
   "cell_type": "code",
   "execution_count": 10,
   "metadata": {
    "scrolled": true
   },
   "outputs": [
    {
     "data": {
      "text/plain": [
       "['Entire home/apt', 'Shared room', 'Private room']"
      ]
     },
     "execution_count": 10,
     "metadata": {},
     "output_type": "execute_result"
    }
   ],
   "source": [
    "room_type_items = set(room_type)\n",
    "room_type_items =[x for x in room_type_items if str(x) != 'nan']\n",
    "room_type_items"
   ]
  },
  {
   "cell_type": "code",
   "execution_count": 11,
   "metadata": {
    "collapsed": true
   },
   "outputs": [],
   "source": [
    "Catego = {}\n",
    "for i in room_type_items:\n",
    "    x = str(i)\n",
    "    Catego[x] = []\n",
    "    for j in room_type:\n",
    "        if type(j) !=float and i in j:\n",
    "            Catego[i].append(1)\n",
    "        else:\n",
    "            Catego[i].append(0)\n",
    "room_type_feature = pd.DataFrame(Catego)"
   ]
  },
  {
   "cell_type": "code",
   "execution_count": 12,
   "metadata": {
    "collapsed": true
   },
   "outputs": [],
   "source": [
    "#room_type_feature.to_csv('NY/room_type.csv')"
   ]
  },
  {
   "cell_type": "markdown",
   "metadata": {},
   "source": [
    "# property_type"
   ]
  },
  {
   "cell_type": "code",
   "execution_count": 3,
   "metadata": {
    "collapsed": true
   },
   "outputs": [],
   "source": [
    "property_type = cateset['property_type']"
   ]
  },
  {
   "cell_type": "code",
   "execution_count": 6,
   "metadata": {
    "scrolled": true
   },
   "outputs": [
    {
     "data": {
      "text/plain": [
       "['Earth House',\n",
       " 'Train',\n",
       " 'Serviced apartment',\n",
       " 'In-law',\n",
       " 'Loft',\n",
       " 'Villa',\n",
       " 'Vacation home',\n",
       " 'Bungalow',\n",
       " 'Cave',\n",
       " 'Guesthouse',\n",
       " 'Boutique hotel',\n",
       " 'Cabin',\n",
       " 'Condominium',\n",
       " 'Hostel',\n",
       " 'Apartment',\n",
       " 'Tent',\n",
       " 'Guest suite',\n",
       " 'Townhouse',\n",
       " 'Chalet',\n",
       " 'House',\n",
       " 'Bed & Breakfast',\n",
       " 'Yurt',\n",
       " 'Other',\n",
       " 'Boat',\n",
       " 'Castle',\n",
       " 'Timeshare',\n",
       " 'Treehouse',\n",
       " 'Dorm']"
      ]
     },
     "execution_count": 6,
     "metadata": {},
     "output_type": "execute_result"
    }
   ],
   "source": [
    "property_type_items = set(property_type)\n",
    "property_type_items =[x for x in property_type_items if str(x) != 'nan']\n",
    "property_type_items"
   ]
  },
  {
   "cell_type": "code",
   "execution_count": 7,
   "metadata": {
    "collapsed": true
   },
   "outputs": [],
   "source": [
    "Catego = {}\n",
    "for i in property_type_items:\n",
    "    x = str(i)\n",
    "    Catego[x] = []\n",
    "    for j in property_type:\n",
    "        if type(j) !=float and i in j:\n",
    "            Catego[i].append(1)\n",
    "        else:\n",
    "            Catego[i].append(0)\n",
    "property_type_feature = pd.DataFrame(Catego)"
   ]
  },
  {
   "cell_type": "code",
   "execution_count": 8,
   "metadata": {
    "collapsed": true
   },
   "outputs": [],
   "source": [
    "#property_type_feature.to_csv('NY/property_type.csv')"
   ]
  },
  {
   "cell_type": "markdown",
   "metadata": {
    "collapsed": true
   },
   "source": [
    "# length of review"
   ]
  },
  {
   "cell_type": "code",
   "execution_count": 13,
   "metadata": {},
   "outputs": [
    {
     "name": "stderr",
     "output_type": "stream",
     "text": [
      "/anaconda/lib/python3.5/site-packages/IPython/core/interactiveshell.py:2698: DtypeWarning: Columns (43,88) have mixed types. Specify dtype option on import or set low_memory=False.\n",
      "  interactivity=interactivity, compiler=compiler, result=result)\n"
     ]
    }
   ],
   "source": [
    "review1 = pd.read_csv('NY/NYreviews.csv')\n",
    "review2 = pd.read_csv('NY/NYreviews2.csv')\n",
    "list2 = pd.read_csv('NY/NYlistings2.csv')"
   ]
  },
  {
   "cell_type": "code",
   "execution_count": 14,
   "metadata": {},
   "outputs": [
    {
     "data": {
      "text/plain": [
       "172"
      ]
     },
     "execution_count": 14,
     "metadata": {},
     "output_type": "execute_result"
    }
   ],
   "source": [
    "len(review2.comments[0])"
   ]
  },
  {
   "cell_type": "code",
   "execution_count": 20,
   "metadata": {
    "collapsed": true
   },
   "outputs": [],
   "source": [
    "ID = list2.id"
   ]
  },
  {
   "cell_type": "code",
   "execution_count": 18,
   "metadata": {
    "scrolled": true
   },
   "outputs": [
    {
     "data": {
      "text/plain": [
       "777"
      ]
     },
     "execution_count": 18,
     "metadata": {},
     "output_type": "execute_result"
    }
   ],
   "source": [
    "c=0\n",
    "for j in range(len(review2)):\n",
    "        if type(review2.comments[j])==float:\n",
    "            c+=1\n",
    "c       "
   ]
  },
  {
   "cell_type": "code",
   "execution_count": 19,
   "metadata": {
    "scrolled": true
   },
   "outputs": [
    {
     "data": {
      "text/plain": [
       "34843"
      ]
     },
     "execution_count": 19,
     "metadata": {},
     "output_type": "execute_result"
    }
   ],
   "source": [
    "ID_number = set(review2.listing_id)\n",
    "len(ID_number)"
   ]
  },
  {
   "cell_type": "code",
   "execution_count": 21,
   "metadata": {
    "scrolled": true
   },
   "outputs": [
    {
     "data": {
      "text/plain": [
       "44317"
      ]
     },
     "execution_count": 21,
     "metadata": {},
     "output_type": "execute_result"
    }
   ],
   "source": [
    "len(ID)"
   ]
  },
  {
   "cell_type": "code",
   "execution_count": null,
   "metadata": {
    "collapsed": true
   },
   "outputs": [],
   "source": [
    "review_length = np.zeros((44317,))\n",
    "for i in range(len(ID)):\n",
    "    count = 0\n",
    "    for j in range(len(review2)):\n",
    "        if review2.listing_id[j]==ID[i] and type(review2.comments[j])!=float:\n",
    "            review_length[i] += len(review2.comments[j])\n",
    "            count+=1\n",
    "        if count > 0:\n",
    "            review_length[i] = review_length[i]/count\n",
    "review_length"
   ]
  },
  {
   "cell_type": "code",
   "execution_count": 15,
   "metadata": {},
   "outputs": [
    {
     "name": "stdout",
     "output_type": "stream",
     "text": [
      "[ 0.  0.  0. ...,  1.  1.  1.]\n"
     ]
    }
   ],
   "source": [
    "review_length"
   ]
  },
  {
   "cell_type": "code",
   "execution_count": 17,
   "metadata": {},
   "outputs": [
    {
     "ename": "AttributeError",
     "evalue": "'numpy.ndarray' object has no attribute 'to_csv'",
     "output_type": "error",
     "traceback": [
      "\u001b[0;31m---------------------------------------------------------------------------\u001b[0m",
      "\u001b[0;31mAttributeError\u001b[0m                            Traceback (most recent call last)",
      "\u001b[0;32m<ipython-input-17-295344a18926>\u001b[0m in \u001b[0;36m<module>\u001b[0;34m()\u001b[0m\n\u001b[0;32m----> 1\u001b[0;31m \u001b[0mreview_length\u001b[0m\u001b[0;34m.\u001b[0m\u001b[0mto_csv\u001b[0m\u001b[0;34m(\u001b[0m\u001b[0;34m'review_length.csv'\u001b[0m\u001b[0;34m)\u001b[0m\u001b[0;34m\u001b[0m\u001b[0m\n\u001b[0m",
      "\u001b[0;31mAttributeError\u001b[0m: 'numpy.ndarray' object has no attribute 'to_csv'"
     ]
    }
   ],
   "source": [
    "#review_length.to_csv('review_length.csv')"
   ]
  },
  {
   "cell_type": "code",
   "execution_count": 18,
   "metadata": {
    "collapsed": true
   },
   "outputs": [],
   "source": [
    "#np.savetxt(\"review_length.csv\", review_length)"
   ]
  },
  {
   "cell_type": "code",
   "execution_count": 19,
   "metadata": {
    "collapsed": true
   },
   "outputs": [],
   "source": [
    "#df = pd.DataFrame(review_length)\n",
    "#df.to_csv(\"review_length.csv\")"
   ]
  },
  {
   "cell_type": "markdown",
   "metadata": {
    "collapsed": true
   },
   "source": [
    "# Other"
   ]
  },
  {
   "cell_type": "code",
   "execution_count": 34,
   "metadata": {
    "collapsed": true
   },
   "outputs": [],
   "source": [
    "cleaning_fee = cateset['cleaning_fee']"
   ]
  },
  {
   "cell_type": "code",
   "execution_count": 35,
   "metadata": {},
   "outputs": [
    {
     "data": {
      "text/plain": [
       "(44320,)"
      ]
     },
     "execution_count": 35,
     "metadata": {},
     "output_type": "execute_result"
    }
   ],
   "source": [
    "cleaning_fee.shape"
   ]
  },
  {
   "cell_type": "code",
   "execution_count": 36,
   "metadata": {
    "collapsed": true
   },
   "outputs": [],
   "source": [
    "for i in range(len(cleaning_fee)):\n",
    "    if type(cleaning_fee[i]) == float:\n",
    "         cleaning_fee[i] = 0"
   ]
  },
  {
   "cell_type": "code",
   "execution_count": 37,
   "metadata": {
    "collapsed": true
   },
   "outputs": [],
   "source": [
    "for i in range(len(cleaning_fee)):\n",
    "    if type (cleaning_fee[i]) == str:\n",
    "        cleaning_fee[i] = cleaning_fee[i][1:]"
   ]
  },
  {
   "cell_type": "code",
   "execution_count": 26,
   "metadata": {
    "collapsed": true
   },
   "outputs": [],
   "source": [
    "for i in range(len(cleaning_fee)):\n",
    "    if type (cleaning_fee[i]) == str and cleaning_fee[i] != \"00%\":\n",
    "        cleaning_fee[i] = int(float(cleaning_fee[i]))\n",
    "    else:\n",
    "        cleaning_fee[i] = 0"
   ]
  },
  {
   "cell_type": "code",
   "execution_count": 28,
   "metadata": {},
   "outputs": [
    {
     "data": {
      "text/plain": [
       "0         85\n",
       "1         20\n",
       "2         75\n",
       "3         30\n",
       "4        100\n",
       "5         17\n",
       "6         50\n",
       "7          0\n",
       "8         50\n",
       "9          0\n",
       "10        35\n",
       "11        50\n",
       "12        75\n",
       "13        30\n",
       "14         6\n",
       "15         0\n",
       "16        20\n",
       "17         0\n",
       "18        50\n",
       "19        50\n",
       "20        60\n",
       "21        20\n",
       "22        30\n",
       "23         0\n",
       "24        10\n",
       "25        35\n",
       "26        50\n",
       "27        70\n",
       "28        75\n",
       "29        17\n",
       "        ... \n",
       "44290    120\n",
       "44291      0\n",
       "44292      0\n",
       "44293      0\n",
       "44294      0\n",
       "44295     50\n",
       "44296     66\n",
       "44297      0\n",
       "44298     15\n",
       "44299     90\n",
       "44300    150\n",
       "44301      0\n",
       "44302     80\n",
       "44303      0\n",
       "44304    100\n",
       "44305     50\n",
       "44306     20\n",
       "44307    300\n",
       "44308      0\n",
       "44309      0\n",
       "44310      0\n",
       "44311     25\n",
       "44312      0\n",
       "44313    125\n",
       "44314      0\n",
       "44315      0\n",
       "44316    125\n",
       "44317     20\n",
       "44318      0\n",
       "44319     60\n",
       "Name: cleaning_fee, Length: 44320, dtype: object"
      ]
     },
     "execution_count": 28,
     "metadata": {},
     "output_type": "execute_result"
    }
   ],
   "source": [
    "cleaning_fee"
   ]
  },
  {
   "cell_type": "code",
   "execution_count": 11,
   "metadata": {
    "collapsed": true
   },
   "outputs": [],
   "source": [
    "#cleaning_fee.to_csv('NY/cleaning_fee.csv')"
   ]
  },
  {
   "cell_type": "code",
   "execution_count": 3,
   "metadata": {
    "collapsed": true
   },
   "outputs": [],
   "source": [
    "security_deposit = cateset['security_deposit']"
   ]
  },
  {
   "cell_type": "code",
   "execution_count": 4,
   "metadata": {
    "collapsed": true
   },
   "outputs": [],
   "source": [
    "for i in range(len(security_deposit)):\n",
    "    if type(security_deposit[i]) == float:\n",
    "         security_deposit[i] = 0"
   ]
  },
  {
   "cell_type": "code",
   "execution_count": 5,
   "metadata": {
    "collapsed": true
   },
   "outputs": [],
   "source": [
    "for i in range(len(security_deposit)):\n",
    "    if type (security_deposit[i]) == str:\n",
    "        security_deposit[i] = security_deposit[i][1:]"
   ]
  },
  {
   "cell_type": "code",
   "execution_count": 7,
   "metadata": {
    "collapsed": true
   },
   "outputs": [],
   "source": [
    "from re import sub\n",
    "from decimal import Decimal\n",
    "for i in range(len(security_deposit)):\n",
    "    if type (security_deposit[i]) == str:\n",
    "        security_deposit[i] = Decimal(sub(r'[^\\d.]', '', security_deposit[i]))\n",
    "        security_deposit[i] = float(security_deposit[i])\n",
    "    else:\n",
    "        security_deposit[i] = 0\n",
    "#and security_deposit[i] != \"00%\""
   ]
  },
  {
   "cell_type": "code",
   "execution_count": 9,
   "metadata": {
    "collapsed": true
   },
   "outputs": [],
   "source": [
    "#security_deposit.to_csv('NY/security_deposit.csv')"
   ]
  },
  {
   "cell_type": "code",
   "execution_count": 10,
   "metadata": {
    "collapsed": true
   },
   "outputs": [],
   "source": [
    "host_identity_verified = cateset['host_identity_verified']"
   ]
  },
  {
   "cell_type": "code",
   "execution_count": 12,
   "metadata": {},
   "outputs": [
    {
     "data": {
      "text/plain": [
       "{nan, 't', 'f'}"
      ]
     },
     "execution_count": 12,
     "metadata": {},
     "output_type": "execute_result"
    }
   ],
   "source": [
    "set(host_identity_verified)"
   ]
  },
  {
   "cell_type": "code",
   "execution_count": 14,
   "metadata": {
    "collapsed": true
   },
   "outputs": [],
   "source": [
    "for i in range(len(host_identity_verified)):\n",
    "    if host_identity_verified[i] == \"f\":\n",
    "         host_identity_verified[i] = 0\n",
    "    elif host_identity_verified[i] == \"t\":\n",
    "        host_identity_verified[i] = 1"
   ]
  },
  {
   "cell_type": "code",
   "execution_count": 16,
   "metadata": {
    "collapsed": true
   },
   "outputs": [],
   "source": [
    "#host_identity_verified.to_csv('NY/host_identity_verified.csv')"
   ]
  },
  {
   "cell_type": "code",
   "execution_count": 17,
   "metadata": {
    "collapsed": true
   },
   "outputs": [],
   "source": [
    "host_is_superhost = cateset['host_is_superhost']"
   ]
  },
  {
   "cell_type": "code",
   "execution_count": 18,
   "metadata": {},
   "outputs": [
    {
     "data": {
      "text/plain": [
       "{nan, 't', 'f'}"
      ]
     },
     "execution_count": 18,
     "metadata": {},
     "output_type": "execute_result"
    }
   ],
   "source": [
    "set(host_is_superhost)"
   ]
  },
  {
   "cell_type": "code",
   "execution_count": 19,
   "metadata": {
    "collapsed": true
   },
   "outputs": [],
   "source": [
    "for i in range(len(host_is_superhost)):\n",
    "    if host_is_superhost[i] == \"f\":\n",
    "         host_is_superhost[i] = 0\n",
    "    elif host_is_superhost[i] == \"t\":\n",
    "        host_is_superhost[i] = 1"
   ]
  },
  {
   "cell_type": "code",
   "execution_count": 20,
   "metadata": {
    "collapsed": true
   },
   "outputs": [],
   "source": [
    "#host_is_superhost.to_csv('NY/host_is_superhost.csv')"
   ]
  },
  {
   "cell_type": "code",
   "execution_count": 21,
   "metadata": {
    "collapsed": true
   },
   "outputs": [],
   "source": [
    "instant_bookable = cateset['instant_bookable']"
   ]
  },
  {
   "cell_type": "code",
   "execution_count": 22,
   "metadata": {},
   "outputs": [
    {
     "data": {
      "text/plain": [
       "{nan, 't', 'f', 'Brooklyn', 'Manhattan'}"
      ]
     },
     "execution_count": 22,
     "metadata": {},
     "output_type": "execute_result"
    }
   ],
   "source": [
    "set(instant_bookable)"
   ]
  },
  {
   "cell_type": "code",
   "execution_count": 23,
   "metadata": {
    "collapsed": true
   },
   "outputs": [],
   "source": [
    "for i in range(len(instant_bookable)):\n",
    "    if instant_bookable[i] == \"f\":\n",
    "         instant_bookable[i] = 0\n",
    "    elif instant_bookable[i] == \"t\":\n",
    "        instant_bookable[i] = 1\n",
    "    else:\n",
    "        instant_bookable[i] = np.nan"
   ]
  },
  {
   "cell_type": "code",
   "execution_count": 21,
   "metadata": {
    "collapsed": true
   },
   "outputs": [],
   "source": [
    "instant_bookable = cateset['instant_bookable']"
   ]
  },
  {
   "cell_type": "code",
   "execution_count": 22,
   "metadata": {},
   "outputs": [
    {
     "data": {
      "text/plain": [
       "{nan, 't', 'f', 'Brooklyn', 'Manhattan'}"
      ]
     },
     "execution_count": 22,
     "metadata": {},
     "output_type": "execute_result"
    }
   ],
   "source": [
    "set(instant_bookable)"
   ]
  },
  {
   "cell_type": "code",
   "execution_count": 23,
   "metadata": {
    "collapsed": true
   },
   "outputs": [],
   "source": [
    "for i in range(len(instant_bookable)):\n",
    "    if instant_bookable[i] == \"f\":\n",
    "         instant_bookable[i] = 0\n",
    "    elif instant_bookable[i] == \"t\":\n",
    "        instant_bookable[i] = 1\n",
    "    else:\n",
    "        instant_bookable[i] = np.nan"
   ]
  },
  {
   "cell_type": "code",
   "execution_count": 24,
   "metadata": {
    "collapsed": true
   },
   "outputs": [],
   "source": [
    "#instant_bookable.to_csv('NY/instant_bookable.csv')"
   ]
  },
  {
   "cell_type": "code",
   "execution_count": 25,
   "metadata": {
    "collapsed": true
   },
   "outputs": [],
   "source": [
    "require_guest_phone_verification = cateset['require_guest_phone_verification']"
   ]
  },
  {
   "cell_type": "code",
   "execution_count": 26,
   "metadata": {},
   "outputs": [
    {
     "data": {
      "text/plain": [
       "{nan, 't', 'f'}"
      ]
     },
     "execution_count": 26,
     "metadata": {},
     "output_type": "execute_result"
    }
   ],
   "source": [
    "set(require_guest_phone_verification)"
   ]
  },
  {
   "cell_type": "code",
   "execution_count": 27,
   "metadata": {
    "collapsed": true
   },
   "outputs": [],
   "source": [
    "for i in range(len(require_guest_phone_verification)):\n",
    "    if require_guest_phone_verification[i] == \"f\":\n",
    "         require_guest_phone_verification[i] = 0\n",
    "    elif require_guest_phone_verification[i] == \"t\":\n",
    "        require_guest_phone_verification[i] = 1"
   ]
  },
  {
   "cell_type": "code",
   "execution_count": 28,
   "metadata": {
    "collapsed": true
   },
   "outputs": [],
   "source": [
    "#require_guest_phone_verification.to_csv('NY/require_guest_phone_verification.csv')"
   ]
  },
  {
   "cell_type": "code",
   "execution_count": 29,
   "metadata": {
    "collapsed": true
   },
   "outputs": [],
   "source": [
    "require_guest_profile_picture = cateset['require_guest_profile_picture']"
   ]
  },
  {
   "cell_type": "code",
   "execution_count": 30,
   "metadata": {},
   "outputs": [
    {
     "data": {
      "text/plain": [
       "{nan, 't', 'f'}"
      ]
     },
     "execution_count": 30,
     "metadata": {},
     "output_type": "execute_result"
    }
   ],
   "source": [
    "set(require_guest_profile_picture)"
   ]
  },
  {
   "cell_type": "code",
   "execution_count": 31,
   "metadata": {
    "collapsed": true
   },
   "outputs": [],
   "source": [
    "for i in range(len(require_guest_profile_picture)):\n",
    "    if require_guest_profile_picture[i] == \"f\":\n",
    "         require_guest_profile_picture[i] = 0\n",
    "    elif require_guest_profile_picture[i] == \"t\":\n",
    "        require_guest_profile_picture[i] = 1"
   ]
  },
  {
   "cell_type": "code",
   "execution_count": 32,
   "metadata": {
    "collapsed": true
   },
   "outputs": [],
   "source": [
    "#require_guest_profile_picture.to_csv('NY/require_guest_profile_picture.csv')"
   ]
  },
  {
   "cell_type": "code",
   "execution_count": 30,
   "metadata": {},
   "outputs": [],
   "source": [
    "amenities = pd.read_csv('NY/amenities.csv')\n",
    "bed_type = pd.read_csv('NY/bed_type.csv')\n",
    "cancellation_policy = pd.read_csv('NY/cancellation_policy.csv')\n",
    "#cleaning_fee = pd.read_csv('NY/cleaning_fee.csv')\n",
    "#host_identity_verified = pd.read_csv('NY/host_identity_verified.csv')\n",
    "#host_is_superhost = pd.read_csv('NY/host_is_superhost.csv')\n",
    "host_response_time = pd.read_csv('NY/host_response_time.csv')\n",
    "host_verifications = pd.read_csv('NY/host_verifications.csv')\n",
    "#instant_bookable = pd.read_csv('NY/instant_bookable.csv')\n",
    "property_type = pd.read_csv('NY/property_type.csv')\n",
    "#require_guest_phone_verification = pd.read_csv('NY/require_guest_phone_verification.csv')\n",
    "#require_guest_profile_picture = pd.read_csv('NY/require_guest_profile_picture.csv')\n",
    "room_type = pd.read_csv('NY/room_type.csv')\n",
    "#security_deposit = pd.read_csv('NY/security_deposit.csv')"
   ]
  },
  {
   "cell_type": "code",
   "execution_count": 3,
   "metadata": {
    "collapsed": true
   },
   "outputs": [],
   "source": [
    "amenities = pd.read_csv('NY/amenities.csv')  20\n",
    "bed_type = pd.read_csv('NY/bed_type.csv')  20\n",
    "cancellation_policy = pd.read_csv('NY/cancellation_policy.csv')  20\n",
    "cleaning_fee = pd.read_csv('NY/cleaning_fee.csv')\n",
    "host_identity_verified = pd.read_csv('NY/host_identity_verified.csv')\n",
    "host_is_superhost = pd.read_csv('NY/host_is_superhost.csv')\n",
    "host_response_time = pd.read_csv('NY/host_response_time.csv')   20\n",
    "host_verifications = pd.read_csv('NY/host_verifications.csv')   20\n",
    "instant_bookable = pd.read_csv('NY/instant_bookable.csv')\n",
    "property_type = pd.read_csv('NY/property_type.csv')    20\n",
    "require_guest_phone_verification = pd.read_csv('NY/require_guest_phone_verification.csv')\n",
    "require_guest_profile_picture = pd.read_csv('NY/require_guest_profile_picture.csv')\n",
    "room_type = pd.read_csv('NY/room_type.csv')  20\n",
    "security_deposit   19"
   ]
  },
  {
   "cell_type": "code",
   "execution_count": 33,
   "metadata": {},
   "outputs": [
    {
     "data": {
      "text/plain": [
       "(44319, 2)"
      ]
     },
     "execution_count": 33,
     "metadata": {},
     "output_type": "execute_result"
    }
   ],
   "source": [
    "cleaning_fee.shape"
   ]
  },
  {
   "cell_type": "code",
   "execution_count": 4,
   "metadata": {},
   "outputs": [
    {
     "ename": "ValueError",
     "evalue": "all the input array dimensions except for the concatenation axis must match exactly",
     "output_type": "error",
     "traceback": [
      "\u001b[0;31m---------------------------------------------------------------------------\u001b[0m",
      "\u001b[0;31mValueError\u001b[0m                                Traceback (most recent call last)",
      "\u001b[0;32m<ipython-input-4-c0be90efc141>\u001b[0m in \u001b[0;36m<module>\u001b[0;34m()\u001b[0m\n\u001b[0;32m----> 1\u001b[0;31m \u001b[0mIntegrate\u001b[0m \u001b[0;34m=\u001b[0m \u001b[0mnp\u001b[0m\u001b[0;34m.\u001b[0m\u001b[0mconcatenate\u001b[0m\u001b[0;34m(\u001b[0m\u001b[0;34m(\u001b[0m\u001b[0mamenities\u001b[0m\u001b[0;34m,\u001b[0m\u001b[0mbed_type\u001b[0m\u001b[0;34m,\u001b[0m\u001b[0mcancellation_policy\u001b[0m\u001b[0;34m,\u001b[0m\u001b[0mcleaning_fee\u001b[0m\u001b[0;34m,\u001b[0m\u001b[0mhost_identity_verified\u001b[0m\u001b[0;34m,\u001b[0m\u001b[0mhost_is_superhost\u001b[0m\u001b[0;34m,\u001b[0m\u001b[0mhost_response_time\u001b[0m\u001b[0;34m,\u001b[0m\u001b[0mhost_verifications\u001b[0m\u001b[0;34m,\u001b[0m\u001b[0minstant_bookable\u001b[0m\u001b[0;34m,\u001b[0m\u001b[0mproperty_type\u001b[0m\u001b[0;34m,\u001b[0m\u001b[0mrequire_guest_phone_verification\u001b[0m\u001b[0;34m,\u001b[0m\u001b[0mrequire_guest_profile_picture\u001b[0m\u001b[0;34m,\u001b[0m\u001b[0mroom_type\u001b[0m\u001b[0;34m,\u001b[0m\u001b[0msecurity_deposit\u001b[0m\u001b[0;34m)\u001b[0m\u001b[0;34m,\u001b[0m\u001b[0maxis\u001b[0m\u001b[0;34m=\u001b[0m\u001b[0;36m1\u001b[0m\u001b[0;34m)\u001b[0m\u001b[0;34m\u001b[0m\u001b[0m\n\u001b[0m",
      "\u001b[0;31mValueError\u001b[0m: all the input array dimensions except for the concatenation axis must match exactly"
     ]
    }
   ],
   "source": [
    "Integrate = np.concatenate((amenities,bed_type,cancellation_policy,cleaning_fee,host_identity_verified,host_is_superhost,host_response_time,host_verifications,instant_bookable,property_type,require_guest_phone_verification,require_guest_profile_picture,room_type,security_deposit),axis=1)"
   ]
  },
  {
   "cell_type": "code",
   "execution_count": null,
   "metadata": {
    "collapsed": true
   },
   "outputs": [],
   "source": []
  }
 ],
 "metadata": {
  "kernelspec": {
   "display_name": "Python 3",
   "language": "python",
   "name": "python3"
  },
  "language_info": {
   "codemirror_mode": {
    "name": "ipython",
    "version": 3
   },
   "file_extension": ".py",
   "mimetype": "text/x-python",
   "name": "python",
   "nbconvert_exporter": "python",
   "pygments_lexer": "ipython3",
   "version": "3.5.4"
  }
 },
 "nbformat": 4,
 "nbformat_minor": 2
}
