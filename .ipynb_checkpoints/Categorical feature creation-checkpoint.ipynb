{
 "cells": [
  {
   "cell_type": "code",
   "execution_count": 1,
   "metadata": {
    "collapsed": true
   },
   "outputs": [],
   "source": [
    "# data analysis and wrangling\n",
    "import pandas as pd\n",
    "import numpy as np\n",
    "import random as rnd\n",
    "import math\n",
    "\n",
    "# visualization\n",
    "import seaborn as sns\n",
    "import matplotlib.pyplot as plt\n",
    "%matplotlib inline\n",
    "\n",
    "# machine learning\n",
    "from sklearn import linear_model\n",
    "from sklearn.ensemble import RandomForestClassifier\n",
    "from sklearn.tree import DecisionTreeClassifier\n",
    "from sklearn.model_selection import train_test_split"
   ]
  },
  {
   "cell_type": "code",
   "execution_count": 2,
   "metadata": {
    "collapsed": true
   },
   "outputs": [],
   "source": [
    "cateset = pd.read_csv('Catgorical_FS.csv')"
   ]
  },
  {
   "cell_type": "markdown",
   "metadata": {},
   "source": [
    "# amenities"
   ]
  },
  {
   "cell_type": "code",
   "execution_count": 60,
   "metadata": {
    "collapsed": true
   },
   "outputs": [],
   "source": [
    "amenities = cateset['amenities']"
   ]
  },
  {
   "cell_type": "code",
   "execution_count": 61,
   "metadata": {
    "collapsed": true
   },
   "outputs": [],
   "source": [
    "import re\n",
    "amenities_items = []\n",
    "for i in range(3818):\n",
    "    a = re.findall(',([^\"]*),', amenities[i])\n",
    "    b = re.findall('\"([^\"]*)\"', amenities[i])\n",
    "    for j in range(len(a)):\n",
    "        if a[j] not in amenities_items:\n",
    "            amenities_items.append(a[j])\n",
    "    for j in range(len(b)):\n",
    "        if b[j] not in amenities_items:\n",
    "            amenities_items.append(b[j])\n",
    "amenities_items.append('TV')"
   ]
  },
  {
   "cell_type": "code",
   "execution_count": 62,
   "metadata": {
    "collapsed": true
   },
   "outputs": [],
   "source": [
    "newlist = []\n",
    "for word in amenities_items:\n",
    "    word = word.split(\",\")\n",
    "    newlist.extend(word)\n"
   ]
  },
  {
   "cell_type": "code",
   "execution_count": 63,
   "metadata": {
    "collapsed": true
   },
   "outputs": [],
   "source": [
    "amenities_items = []\n",
    "for i in newlist:\n",
    "    if i not in amenities_items:\n",
    "        amenities_items.append(i)"
   ]
  },
  {
   "cell_type": "code",
   "execution_count": 64,
   "metadata": {
    "collapsed": true,
    "scrolled": true
   },
   "outputs": [],
   "source": [
    "amenities_items.remove(\"Washer / Dryer\")"
   ]
  },
  {
   "cell_type": "code",
   "execution_count": 58,
   "metadata": {
    "collapsed": true
   },
   "outputs": [],
   "source": [
    "Catego = {}\n",
    "for i in amenities_items:\n",
    "    x = str(i)\n",
    "    Catego[x] = []\n",
    "    for j in amenities:\n",
    "        if i in j:\n",
    "            Catego[i].append(1)\n",
    "        else:\n",
    "            Catego[i].append(0)\n",
    "Categorical_feature = pd.DataFrame(Catego)"
   ]
  },
  {
   "cell_type": "code",
   "execution_count": 57,
   "metadata": {
    "collapsed": true
   },
   "outputs": [],
   "source": [
    "#Categorical_feature.to_csv('amenities.csv')"
   ]
  },
  {
   "cell_type": "markdown",
   "metadata": {},
   "source": [
    "# bed_type"
   ]
  },
  {
   "cell_type": "code",
   "execution_count": 65,
   "metadata": {
    "collapsed": true
   },
   "outputs": [],
   "source": [
    "bed_type = cateset['bed_type']"
   ]
  },
  {
   "cell_type": "code",
   "execution_count": 67,
   "metadata": {},
   "outputs": [
    {
     "data": {
      "text/plain": [
       "{'Airbed', 'Couch', 'Futon', 'Pull-out Sofa', 'Real Bed'}"
      ]
     },
     "execution_count": 67,
     "metadata": {},
     "output_type": "execute_result"
    }
   ],
   "source": [
    "bed_type_items = set(bed_type)\n",
    "bed_type_items"
   ]
  },
  {
   "cell_type": "code",
   "execution_count": 70,
   "metadata": {
    "collapsed": true
   },
   "outputs": [],
   "source": [
    "Catego = {}\n",
    "for i in bed_type_items:\n",
    "    x = str(i)\n",
    "    Catego[x] = []\n",
    "    for j in bed_type:\n",
    "        if i in j:\n",
    "            Catego[i].append(1)\n",
    "        else:\n",
    "            Catego[i].append(0)\n",
    "bed_type_feature = pd.DataFrame(Catego)"
   ]
  },
  {
   "cell_type": "code",
   "execution_count": 77,
   "metadata": {
    "collapsed": true
   },
   "outputs": [],
   "source": [
    "#bed_type_feature.to_csv('bed_type.csv')"
   ]
  },
  {
   "cell_type": "markdown",
   "metadata": {},
   "source": [
    "# cancellation_policy"
   ]
  },
  {
   "cell_type": "code",
   "execution_count": 73,
   "metadata": {
    "collapsed": true
   },
   "outputs": [],
   "source": [
    "cancellation_policy = cateset['cancellation_policy']"
   ]
  },
  {
   "cell_type": "code",
   "execution_count": 74,
   "metadata": {},
   "outputs": [
    {
     "data": {
      "text/plain": [
       "{'flexible', 'moderate', 'strict'}"
      ]
     },
     "execution_count": 74,
     "metadata": {},
     "output_type": "execute_result"
    }
   ],
   "source": [
    "cancellation_policy_items = set(cancellation_policy)\n",
    "cancellation_policy_items"
   ]
  },
  {
   "cell_type": "code",
   "execution_count": 75,
   "metadata": {
    "collapsed": true
   },
   "outputs": [],
   "source": [
    "Catego = {}\n",
    "for i in cancellation_policy_items:\n",
    "    x = str(i)\n",
    "    Catego[x] = []\n",
    "    for j in cancellation_policy:\n",
    "        if i in j:\n",
    "            Catego[i].append(1)\n",
    "        else:\n",
    "            Catego[i].append(0)\n",
    "cancellation_policy_feature = pd.DataFrame(Catego)"
   ]
  },
  {
   "cell_type": "code",
   "execution_count": 79,
   "metadata": {
    "collapsed": true
   },
   "outputs": [],
   "source": [
    "#cancellation_policy_feature.to_csv('cancellation_policy.csv')"
   ]
  },
  {
   "cell_type": "markdown",
   "metadata": {
    "collapsed": true
   },
   "source": [
    "# host_response_time"
   ]
  },
  {
   "cell_type": "code",
   "execution_count": 28,
   "metadata": {
    "scrolled": true
   },
   "outputs": [
    {
     "data": {
      "text/plain": [
       "float"
      ]
     },
     "execution_count": 28,
     "metadata": {},
     "output_type": "execute_result"
    }
   ],
   "source": [
    "host_response_time = cateset['host_response_time']\n",
    "type(host_response_time[3])"
   ]
  },
  {
   "cell_type": "code",
   "execution_count": 29,
   "metadata": {},
   "outputs": [
    {
     "name": "stderr",
     "output_type": "stream",
     "text": [
      "/anaconda/lib/python3.5/site-packages/ipykernel_launcher.py:3: SettingWithCopyWarning: \n",
      "A value is trying to be set on a copy of a slice from a DataFrame\n",
      "\n",
      "See the caveats in the documentation: http://pandas.pydata.org/pandas-docs/stable/indexing.html#indexing-view-versus-copy\n",
      "  This is separate from the ipykernel package so we can avoid doing imports until\n"
     ]
    }
   ],
   "source": [
    "for i in range(len(host_response_time)):\n",
    "    if type(host_response_time[i])==float:\n",
    "        host_response_time[i]=\"No answer\""
   ]
  },
  {
   "cell_type": "code",
   "execution_count": 31,
   "metadata": {},
   "outputs": [
    {
     "data": {
      "text/plain": [
       "{'No answer',\n",
       " 'a few days or more',\n",
       " 'within a day',\n",
       " 'within a few hours',\n",
       " 'within an hour'}"
      ]
     },
     "execution_count": 31,
     "metadata": {},
     "output_type": "execute_result"
    }
   ],
   "source": [
    "host_response_time_items = set(host_response_time)\n",
    "host_response_time_items"
   ]
  },
  {
   "cell_type": "code",
   "execution_count": 32,
   "metadata": {
    "collapsed": true
   },
   "outputs": [],
   "source": [
    "Catego = {}\n",
    "for i in host_response_time_items:\n",
    "    x = str(i)\n",
    "    Catego[x] = []\n",
    "    for j in host_response_time:\n",
    "        if i in j:\n",
    "            Catego[i].append(1)\n",
    "        else:\n",
    "            Catego[i].append(0)\n",
    "host_response_time_feature = pd.DataFrame(Catego)"
   ]
  },
  {
   "cell_type": "code",
   "execution_count": 33,
   "metadata": {
    "collapsed": true
   },
   "outputs": [],
   "source": [
    "#host_response_time_feature.to_csv('host_response_time.csv')"
   ]
  },
  {
   "cell_type": "markdown",
   "metadata": {},
   "source": [
    "# host_verifications"
   ]
  },
  {
   "cell_type": "code",
   "execution_count": 34,
   "metadata": {
    "collapsed": true
   },
   "outputs": [],
   "source": [
    "host_verifications = cateset['host_verifications']"
   ]
  },
  {
   "cell_type": "code",
   "execution_count": 51,
   "metadata": {},
   "outputs": [
    {
     "data": {
      "text/plain": [
       "['email',\n",
       " 'phone',\n",
       " 'reviews',\n",
       " 'kba',\n",
       " 'facebook',\n",
       " 'linkedin',\n",
       " 'jumio',\n",
       " 'google',\n",
       " 'reviews',\n",
       " 'phone',\n",
       " 'phone',\n",
       " 'jumio',\n",
       " 'manual_offline',\n",
       " 'facebook',\n",
       " 'phone',\n",
       " 'amex',\n",
       " 'google',\n",
       " 'manual_online',\n",
       " 'sent_id',\n",
       " 'kba',\n",
       " 'photographer',\n",
       " 'sent_id',\n",
       " 'manual_offline',\n",
       " 'linkedin',\n",
       " 'email',\n",
       " 'weibo',\n",
       " 'google',\n",
       " 'reviews']"
      ]
     },
     "execution_count": 51,
     "metadata": {},
     "output_type": "execute_result"
    }
   ],
   "source": [
    "host_verifications_items = []\n",
    "newlist = []\n",
    "for i in range(3818):\n",
    "    b = host_verifications[i].split(',')\n",
    "    for j in range(len(b)):\n",
    "        if b[j] not in host_verifications_items:\n",
    "            host_verifications_items.append(b[j])\n",
    "for i in range(len(host_verifications_items)):\n",
    "    host_verifications_items[i]=host_verifications_items[i][2:-1]\n",
    "for i in range(len(host_verifications_items)):\n",
    "    if \"'\" in host_verifications_items[i]:\n",
    "        newlist.append(host_verifications_items[i][:-1])\n",
    "    else:\n",
    "        newlist.append(host_verifications_items[i])\n",
    "newlist.remove('n')\n",
    "newlist.remove('')\n",
    "newlist"
   ]
  },
  {
   "cell_type": "code",
   "execution_count": 53,
   "metadata": {},
   "outputs": [
    {
     "data": {
      "text/plain": [
       "['email',\n",
       " 'phone',\n",
       " 'reviews',\n",
       " 'kba',\n",
       " 'facebook',\n",
       " 'linkedin',\n",
       " 'jumio',\n",
       " 'google',\n",
       " 'manual_offline',\n",
       " 'amex',\n",
       " 'manual_online',\n",
       " 'sent_id',\n",
       " 'photographer',\n",
       " 'weibo']"
      ]
     },
     "execution_count": 53,
     "metadata": {},
     "output_type": "execute_result"
    }
   ],
   "source": [
    "host_verifications_items = []\n",
    "for i in newlist:\n",
    "    if i not in host_verifications_items:\n",
    "        host_verifications_items.append(i)\n",
    "host_verifications_items "
   ]
  },
  {
   "cell_type": "code",
   "execution_count": 54,
   "metadata": {
    "collapsed": true
   },
   "outputs": [],
   "source": [
    "Catego = {}\n",
    "for i in host_verifications_items:\n",
    "    x = str(i)\n",
    "    Catego[x] = []\n",
    "    for j in host_verifications:\n",
    "        if i in j:\n",
    "            Catego[i].append(1)\n",
    "        else:\n",
    "            Catego[i].append(0)\n",
    "host_verifications_feature = pd.DataFrame(Catego)"
   ]
  },
  {
   "cell_type": "code",
   "execution_count": 55,
   "metadata": {
    "collapsed": true
   },
   "outputs": [],
   "source": [
    "#host_verifications_feature.to_csv('host_verifications.csv')"
   ]
  },
  {
   "cell_type": "markdown",
   "metadata": {},
   "source": [
    "# room_type"
   ]
  },
  {
   "cell_type": "code",
   "execution_count": 56,
   "metadata": {
    "collapsed": true
   },
   "outputs": [],
   "source": [
    "room_type = cateset['room_type']"
   ]
  },
  {
   "cell_type": "code",
   "execution_count": 57,
   "metadata": {},
   "outputs": [
    {
     "data": {
      "text/plain": [
       "{'Entire home/apt', 'Private room', 'Shared room'}"
      ]
     },
     "execution_count": 57,
     "metadata": {},
     "output_type": "execute_result"
    }
   ],
   "source": [
    "room_type_items = set(room_type)\n",
    "room_type_items"
   ]
  },
  {
   "cell_type": "code",
   "execution_count": 58,
   "metadata": {
    "collapsed": true
   },
   "outputs": [],
   "source": [
    "Catego = {}\n",
    "for i in room_type_items:\n",
    "    x = str(i)\n",
    "    Catego[x] = []\n",
    "    for j in room_type:\n",
    "        if i in j:\n",
    "            Catego[i].append(1)\n",
    "        else:\n",
    "            Catego[i].append(0)\n",
    "room_type_feature = pd.DataFrame(Catego)"
   ]
  },
  {
   "cell_type": "code",
   "execution_count": 59,
   "metadata": {
    "collapsed": true
   },
   "outputs": [],
   "source": [
    "#room_type_feature.to_csv('room_type.csv')"
   ]
  },
  {
   "cell_type": "markdown",
   "metadata": {
    "collapsed": true
   },
   "source": [
    "# length of review"
   ]
  },
  {
   "cell_type": "code",
   "execution_count": 3,
   "metadata": {
    "collapsed": true
   },
   "outputs": [],
   "source": [
    "review1 = pd.read_csv('reviews.csv')\n",
    "review2 = pd.read_csv('reviews2.csv')\n",
    "list2 = pd.read_csv('listings2.csv')"
   ]
  },
  {
   "cell_type": "code",
   "execution_count": 4,
   "metadata": {},
   "outputs": [
    {
     "data": {
      "text/plain": [
       "53"
      ]
     },
     "execution_count": 4,
     "metadata": {},
     "output_type": "execute_result"
    }
   ],
   "source": [
    "len(review2.comments[0])"
   ]
  },
  {
   "cell_type": "code",
   "execution_count": 5,
   "metadata": {
    "collapsed": true
   },
   "outputs": [],
   "source": [
    "ID = list2.id"
   ]
  },
  {
   "cell_type": "code",
   "execution_count": 15,
   "metadata": {
    "scrolled": true
   },
   "outputs": [
    {
     "name": "stdout",
     "output_type": "stream",
     "text": [
      "11034\n",
      "nan\n",
      "15383\n",
      "nan\n",
      "16097\n",
      "nan\n",
      "27280\n",
      "nan\n",
      "29467\n",
      "nan\n",
      "30619\n",
      "nan\n",
      "31414\n",
      "nan\n",
      "35210\n",
      "nan\n",
      "37971\n",
      "nan\n",
      "40176\n",
      "nan\n",
      "41251\n",
      "nan\n",
      "47183\n",
      "nan\n",
      "61026\n",
      "nan\n",
      "61176\n",
      "nan\n",
      "64412\n",
      "nan\n",
      "71922\n",
      "nan\n",
      "76589\n",
      "nan\n"
     ]
    }
   ],
   "source": [
    "for j in range(len(review2)):\n",
    "        if type(review2.comments[j])==float:\n",
    "            print(j)\n",
    "            print (review2.comments[j])"
   ]
  },
  {
   "cell_type": "code",
   "execution_count": 9,
   "metadata": {
    "scrolled": true
   },
   "outputs": [
    {
     "data": {
      "text/plain": [
       "3191"
      ]
     },
     "execution_count": 9,
     "metadata": {},
     "output_type": "execute_result"
    }
   ],
   "source": [
    "ID_number = set(review2.listing_id)\n",
    "len(ID_number)"
   ]
  },
  {
   "cell_type": "code",
   "execution_count": 13,
   "metadata": {},
   "outputs": [
    {
     "data": {
      "text/plain": [
       "3818"
      ]
     },
     "execution_count": 13,
     "metadata": {},
     "output_type": "execute_result"
    }
   ],
   "source": [
    "len(ID)"
   ]
  },
  {
   "cell_type": "code",
   "execution_count": 10,
   "metadata": {},
   "outputs": [
    {
     "data": {
      "text/plain": [
       "array([ 0.,  0.,  0., ...,  1.,  1.,  1.])"
      ]
     },
     "execution_count": 10,
     "metadata": {},
     "output_type": "execute_result"
    }
   ],
   "source": [
    "review_length = np.ones((3818,))\n",
    "for i in range(len(ID)):\n",
    "    count = 0\n",
    "    for j in range(len(review2)):\n",
    "        if review2.listing_id[j]==ID[i] and type(review2.comments[j])!=float:\n",
    "            review_length[i] += len(review2.comments[j])\n",
    "            count+=1\n",
    "        if count > 0:\n",
    "            review_length[i] = review_length[i]/count\n",
    "review_length"
   ]
  },
  {
   "cell_type": "code",
   "execution_count": 15,
   "metadata": {},
   "outputs": [
    {
     "name": "stdout",
     "output_type": "stream",
     "text": [
      "[ 0.  0.  0. ...,  1.  1.  1.]\n"
     ]
    }
   ],
   "source": [
    "review_length"
   ]
  },
  {
   "cell_type": "code",
   "execution_count": 17,
   "metadata": {},
   "outputs": [
    {
     "ename": "AttributeError",
     "evalue": "'numpy.ndarray' object has no attribute 'to_csv'",
     "output_type": "error",
     "traceback": [
      "\u001b[0;31m---------------------------------------------------------------------------\u001b[0m",
      "\u001b[0;31mAttributeError\u001b[0m                            Traceback (most recent call last)",
      "\u001b[0;32m<ipython-input-17-295344a18926>\u001b[0m in \u001b[0;36m<module>\u001b[0;34m()\u001b[0m\n\u001b[0;32m----> 1\u001b[0;31m \u001b[0mreview_length\u001b[0m\u001b[0;34m.\u001b[0m\u001b[0mto_csv\u001b[0m\u001b[0;34m(\u001b[0m\u001b[0;34m'review_length.csv'\u001b[0m\u001b[0;34m)\u001b[0m\u001b[0;34m\u001b[0m\u001b[0m\n\u001b[0m",
      "\u001b[0;31mAttributeError\u001b[0m: 'numpy.ndarray' object has no attribute 'to_csv'"
     ]
    }
   ],
   "source": [
    "#review_length.to_csv('review_length.csv')"
   ]
  },
  {
   "cell_type": "code",
   "execution_count": 18,
   "metadata": {
    "collapsed": true
   },
   "outputs": [],
   "source": [
    "#np.savetxt(\"review_length.csv\", review_length)"
   ]
  },
  {
   "cell_type": "code",
   "execution_count": 19,
   "metadata": {
    "collapsed": true
   },
   "outputs": [],
   "source": [
    "#df = pd.DataFrame(review_length)\n",
    "#df.to_csv(\"review_length.csv\")"
   ]
  },
  {
   "cell_type": "code",
   "execution_count": null,
   "metadata": {
    "collapsed": true
   },
   "outputs": [],
   "source": []
  }
 ],
 "metadata": {
  "kernelspec": {
   "display_name": "Python 3",
   "language": "python",
   "name": "python3"
  },
  "language_info": {
   "codemirror_mode": {
    "name": "ipython",
    "version": 3
   },
   "file_extension": ".py",
   "mimetype": "text/x-python",
   "name": "python",
   "nbconvert_exporter": "python",
   "pygments_lexer": "ipython3",
   "version": "3.5.4"
  }
 },
 "nbformat": 4,
 "nbformat_minor": 2
}
